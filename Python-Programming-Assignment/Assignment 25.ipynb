{
 "cells": [
  {
   "cell_type": "markdown",
   "id": "fdda1fbb",
   "metadata": {},
   "source": [
    "## Assignment 25"
   ]
  },
  {
   "cell_type": "markdown",
   "id": "faffbb01",
   "metadata": {},
   "source": [
    "### 1. Create a function that takes three integer arguments (a, b, c) and returns the amount of integers which are of equal value."
   ]
  },
  {
   "cell_type": "code",
   "execution_count": 1,
   "id": "4eb27a67",
   "metadata": {},
   "outputs": [
    {
     "name": "stdout",
     "output_type": "stream",
     "text": [
      "(3, 4, 3) -> 2\n",
      "(1, 1, 1) -> 3\n",
      "(3, 4, 1) -> 0\n",
      "(10, 10, 3) -> 2\n"
     ]
    }
   ],
   "source": [
    "def equal(a, b, c):\n",
    "    if a==b and b==c and c==a:\n",
    "        print(f\"{a,b,c} -> {3}\")\n",
    "    elif a==b or b==c or c==a:\n",
    "        print(f\"{a,b,c} -> {2}\")\n",
    "    else:\n",
    "        print(f\"{a,b,c} -> {0}\")\n",
    "\n",
    "equal(3, 4, 3)\n",
    "equal(1, 1, 1)\n",
    "equal(3, 4, 1)\n",
    "equal(10,10,3)"
   ]
  },
  {
   "cell_type": "markdown",
   "id": "db1a3ea3",
   "metadata": {},
   "source": [
    "### 2.Write a function that converts a dictionary into a list of keys-values tuples.\n",
    "\n",
    "Examples:\n",
    "```\n",
    "dict_to_list({\n",
    "    \"D\": 1,\n",
    "    \"B\": 2,\n",
    "    \"C\": 3\n",
    "    }) ➞ [(\"B\", 2), (\"C\", 3), (\"D\", 1)]  \n",
    "dict_to_list({\n",
    "    \"likes\": 2,\n",
    "    \"dislikes\": 3,\n",
    "    \"followers\": 10\n",
    "    }) ➞ [(\"dislikes\", 3), (\"followers\", 10), (\"likes\", 2)]\n",
    "```\n",
    "\n",
    "### Notes:\n",
    "Return the elements in the list in alphabetical order."
   ]
  },
  {
   "cell_type": "code",
   "execution_count": 2,
   "id": "4ad2b65b",
   "metadata": {},
   "outputs": [
    {
     "data": {
      "text/plain": [
       "[('B', 2), ('C', 3), ('A', 1)]"
      ]
     },
     "execution_count": 2,
     "metadata": {},
     "output_type": "execute_result"
    }
   ],
   "source": [
    "def dict_to_list(my_dict):\n",
    "    my_list = []\n",
    "    for key, value in my_dict.items():\n",
    "        my_list.append((key,value))\n",
    "    return my_list\n",
    "\n",
    "dict_to_list({\"B\":2, \"C\":3, \"A\":1})"
   ]
  },
  {
   "cell_type": "markdown",
   "id": "95820c5e",
   "metadata": {},
   "source": [
    "### 3. Write a function that creates a dictionary with each (key, value) pair being the (lower case,upper case) versions of a letter, respectively.\n",
    "### Examples\n",
    "\n",
    "\n",
    "mapping([&quot;p&quot;, &quot;s&quot;]) ➞ { &quot;p&quot;: &quot;P&quot;, &quot;s&quot;: &quot;S&quot; }\n",
    "\n",
    "mapping([&quot;a&quot;, &quot;b&quot;, &quot;c&quot;]) ➞ { &quot;a&quot;: &quot;A&quot;, &quot;b&quot;: &quot;B&quot;, &quot;c&quot;: &quot;C&quot; }\n",
    "\n",
    "mapping([&quot;a&quot;, &quot;v&quot;, &quot;y&quot;, &quot;z&quot;]) ➞ { &quot;a&quot;: &quot;A&quot;, &quot;v&quot;: &quot;V&quot;, &quot;y&quot;: &quot;Y&quot;, &quot;z&quot;: &quot;Z&quot; }\n",
    "\n",
    "\n",
    "\n",
    "\n",
    "### Notes\n",
    "All of the letters in the input list will always be lowercase."
   ]
  },
  {
   "cell_type": "code",
   "execution_count": 3,
   "id": "a39284b5",
   "metadata": {},
   "outputs": [
    {
     "data": {
      "text/plain": [
       "\"['p', 's'] -> {'p': 'P', 's': 'S'}\""
      ]
     },
     "execution_count": 3,
     "metadata": {},
     "output_type": "execute_result"
    }
   ],
   "source": [
    "def mapping(my_list):\n",
    "    di = {}\n",
    "    for i in my_list:\n",
    "        di[i] = i.upper()\n",
    "    return f\"{my_list} -> {di}\"\n",
    "\n",
    "mapping([\"p\", \"s\"])\n"
   ]
  },
  {
   "cell_type": "markdown",
   "id": "490c645d",
   "metadata": {},
   "source": [
    "\n",
    "### 4. Write a function, that replaces all vowels in a string with a specified vowel.\n",
    "### Examples\n",
    "vow_replace(&quot;apples and bananas&quot;, &quot;u&quot;) ➞ &quot;upplus und bununus&quot;\n",
    "\n",
    "vow_replace(&quot;cheese casserole&quot;, &quot;o&quot;) ➞ &quot;chooso cossorolo&quot;\n",
    "\n",
    "vow_replace(&quot;stuffed jalapeno poppers&quot;, &quot;e&quot;) ➞ &quot;steffed jelepene peppers&quot;\n",
    "### Notes\n",
    "All words will be lowercase. Y is not considered a vowel."
   ]
  },
  {
   "cell_type": "code",
   "execution_count": 45,
   "id": "54200297",
   "metadata": {},
   "outputs": [],
   "source": [
    "def vow_replace(my_string, my_vow):\n",
    "    \n",
    "    res_string = \" \"\n",
    "    my_vowel = ['a','e','i','o','u']\n",
    "    for i in my_string:\n",
    "        if i in my_vowel:\n",
    "            res_string += my_vow\n",
    "            \n",
    "        else:\n",
    "            res_string += i\n",
    "    print(f\"{my_string}->{res_string}\")\n",
    "        \n",
    "            \n",
    "            \n",
    "            "
   ]
  },
  {
   "cell_type": "code",
   "execution_count": 46,
   "id": "e83ad11c",
   "metadata": {},
   "outputs": [
    {
     "name": "stdout",
     "output_type": "stream",
     "text": [
      "apples and bananas-> epples end benenes\n"
     ]
    }
   ],
   "source": [
    "vow_replace(\"apples and bananas\",\"e\")"
   ]
  },
  {
   "cell_type": "code",
   "execution_count": 40,
   "id": "18eb5729",
   "metadata": {},
   "outputs": [
    {
     "name": "stdout",
     "output_type": "stream",
     "text": [
      "chesse casserole-> chassa cassarala\n"
     ]
    }
   ],
   "source": [
    "vow_replace(\"chesse casserole\",\"a\")"
   ]
  },
  {
   "cell_type": "code",
   "execution_count": 41,
   "id": "a7dd265b",
   "metadata": {},
   "outputs": [
    {
     "name": "stdout",
     "output_type": "stream",
     "text": [
      "stuffed jalapeno poppers-> steffed jelepene peppers\n"
     ]
    }
   ],
   "source": [
    "vow_replace(\"stuffed jalapeno poppers\",\"e\")"
   ]
  },
  {
   "cell_type": "markdown",
   "id": "d7c43f5f",
   "metadata": {},
   "source": [
    "### 5. Create a function that takes a string as input and capitalizes a letter if its ASCII code is even and returns its lower case version if its ASCII code is odd.\n",
    "\n",
    "### ascii_capitalize(&quot;to be or not to be!&quot;) ➞ &quot;To Be oR NoT To Be!&quot;\n",
    "### ascii_capitalize(&quot;THE LITTLE MERMAID&quot;) ➞ &quot;THe LiTTLe meRmaiD&quot;\n",
    "### ascii_capitalize(&quot;Oh what a beautiful morning.&quot;) ➞ &quot;oH wHaT a BeauTiFuL moRNiNg.&quot;"
   ]
  },
  {
   "cell_type": "code",
   "execution_count": 47,
   "id": "85f4df3b",
   "metadata": {},
   "outputs": [
    {
     "name": "stdout",
     "output_type": "stream",
     "text": [
      "to be or not to be! ➞ To Be oR NoT To Be!\n",
      "THE LITTLE MERMAID ➞ THe LiTTLe meRmaiD\n",
      "Oh what a beautiful morning. ➞ oH wHaT a BeauTiFuL moRNiNg.\n"
     ]
    }
   ],
   "source": [
    "def ascii_capitalize(in_string):\n",
    "    out_string = ''\n",
    "    for ele in in_string.lower():\n",
    "        if (ord(ele)%2 == 0):\n",
    "            out_string += ele.upper()\n",
    "        else:\n",
    "            out_string += ele\n",
    "    print(f'{in_string} ➞ {out_string}')\n",
    "        \n",
    "ascii_capitalize(\"to be or not to be!\")\n",
    "ascii_capitalize(\"THE LITTLE MERMAID\")\n",
    "ascii_capitalize(\"Oh what a beautiful morning.\")"
   ]
  },
  {
   "cell_type": "code",
   "execution_count": null,
   "id": "53092435",
   "metadata": {},
   "outputs": [],
   "source": []
  }
 ],
 "metadata": {
  "kernelspec": {
   "display_name": "Python 3 (ipykernel)",
   "language": "python",
   "name": "python3"
  },
  "language_info": {
   "codemirror_mode": {
    "name": "ipython",
    "version": 3
   },
   "file_extension": ".py",
   "mimetype": "text/x-python",
   "name": "python",
   "nbconvert_exporter": "python",
   "pygments_lexer": "ipython3",
   "version": "3.9.12"
  }
 },
 "nbformat": 4,
 "nbformat_minor": 5
}
