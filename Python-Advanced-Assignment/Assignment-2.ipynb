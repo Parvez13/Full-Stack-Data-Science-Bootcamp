{
 "cells": [
  {
   "cell_type": "markdown",
   "id": "6898cc2f",
   "metadata": {},
   "source": [
    "### Assignment-2"
   ]
  },
  {
   "cell_type": "markdown",
   "id": "655d75ab",
   "metadata": {},
   "source": [
    "### Q1. What is the relationship between classes and modules?"
   ]
  },
  {
   "cell_type": "markdown",
   "id": "452f9668",
   "metadata": {},
   "source": [
    "* Classes are used to not reuse the code again and again. \n",
    "* These are very useful.\n",
    "* Where we can define methods and instantiate into the objects.\n",
    "* Where Modules are like complete packages which contains variables, functions, and classes etc..,\n",
    "* These modules can be used to complete a programe in another python fies using `import` statement.\n"
   ]
  },
  {
   "cell_type": "markdown",
   "id": "146be875",
   "metadata": {},
   "source": [
    "### Q2. How do you make instances and classes?"
   ]
  },
  {
   "cell_type": "code",
   "execution_count": 2,
   "id": "a80b5e0d",
   "metadata": {},
   "outputs": [
    {
     "data": {
      "text/plain": [
       "<__main__.Employee at 0x268febfbc70>"
      ]
     },
     "execution_count": 2,
     "metadata": {},
     "output_type": "execute_result"
    }
   ],
   "source": [
    "class Employee:\n",
    "    # Instantiation of a class\n",
    "    def __init__(self, name, department, salary):\n",
    "        self.name = name\n",
    "        self.department = department\n",
    "        self.salary =salary\n",
    "\n",
    "employee = Employee('sohail', 'software engineer', 45000)\n",
    "employee"
   ]
  },
  {
   "cell_type": "markdown",
   "id": "c724b7a3",
   "metadata": {},
   "source": [
    "### Q3. Where and how should be class attributes created?"
   ]
  },
  {
   "cell_type": "code",
   "execution_count": 3,
   "id": "084bf5f1",
   "metadata": {},
   "outputs": [],
   "source": [
    "class CricketPlayer:\n",
    "    # classAtrribute\n",
    "    player = 'Team information'\n",
    "    # class initialize\n",
    "    def __init__(self, name, matches, runs, hundreds):\n",
    "        self.name = name\n",
    "        self.matches = matches\n",
    "        self.runs  = runs\n",
    "        self.hundreds = hundreds\n",
    "\n",
    "        \n",
    "virat_kohli = CricketPlayer('Virat Kohli', 262, 12344, 43)\n"
   ]
  },
  {
   "cell_type": "markdown",
   "id": "42ec6044",
   "metadata": {},
   "source": [
    "### Q4. Where and how are instance attributes created?"
   ]
  },
  {
   "cell_type": "code",
   "execution_count": 6,
   "id": "8bb620ca",
   "metadata": {},
   "outputs": [
    {
     "data": {
      "text/plain": [
       "'Virat Kohli'"
      ]
     },
     "execution_count": 6,
     "metadata": {},
     "output_type": "execute_result"
    }
   ],
   "source": [
    "\n",
    "# Instance attributes is created as (object.instance_attribute)\n",
    "\n",
    "virat_kohli = CricketPlayer('Virat Kohli', 262, 12344, 43)\n",
    "virat_kohli.name"
   ]
  },
  {
   "cell_type": "code",
   "execution_count": 7,
   "id": "b1ed8228",
   "metadata": {},
   "outputs": [
    {
     "data": {
      "text/plain": [
       "12344"
      ]
     },
     "execution_count": 7,
     "metadata": {},
     "output_type": "execute_result"
    }
   ],
   "source": [
    "# instance attribute\n",
    "virat_kohli.runs"
   ]
  },
  {
   "cell_type": "code",
   "execution_count": 9,
   "id": "7faba3c0",
   "metadata": {},
   "outputs": [],
   "source": [
    "rohit = CricketPlayer('Rohit Sharma', 270, 10111, 29)"
   ]
  },
  {
   "cell_type": "markdown",
   "id": "bb4b314f",
   "metadata": {},
   "source": [
    "### Q5. What does the term &quot;self&quot; in a Python class mean?"
   ]
  },
  {
   "cell_type": "markdown",
   "id": "ef08e59b",
   "metadata": {},
   "source": [
    "* 'self' is used to represent the class itself.\n",
    "* Without 'self' creating class is impossible."
   ]
  },
  {
   "cell_type": "code",
   "execution_count": 10,
   "id": "2e466831",
   "metadata": {},
   "outputs": [
    {
     "name": "stdout",
     "output_type": "stream",
     "text": [
      "{'name': 'Virat Kohli', 'matches': 262, 'runs': 12344, 'hundreds': 43}\n",
      "{'name': 'Rohit Sharma', 'matches': 270, 'runs': 10111, 'hundreds': 29}\n"
     ]
    }
   ],
   "source": [
    "print(virat_kohli.__dict__)\n",
    "print(rohit.__dict__)"
   ]
  },
  {
   "cell_type": "markdown",
   "id": "82d4f3bb",
   "metadata": {},
   "source": [
    "### Q6. How does a Python class handle operator overloading?"
   ]
  },
  {
   "cell_type": "markdown",
   "id": "21fb0b14",
   "metadata": {},
   "source": [
    "* The python class handle operator overloading  using special methods called Magic methods. \n",
    "* These methods starts and ends with double underscore(__)"
   ]
  },
  {
   "cell_type": "code",
   "execution_count": 17,
   "id": "b30c7f86",
   "metadata": {},
   "outputs": [
    {
     "name": "stdout",
     "output_type": "stream",
     "text": [
      "300\n"
     ]
    }
   ],
   "source": [
    "class Books:\n",
    "    class_info= 'Books'\n",
    "    def __init__(self, pages):\n",
    "        self.pages = pages\n",
    "    def __add__(self, others):\n",
    "        return self.pages + others.pages\n",
    "\n",
    "book1 = Books(100)\n",
    "book2 = Books(200)\n",
    "print(book1 + book2)"
   ]
  },
  {
   "cell_type": "markdown",
   "id": "f193841b",
   "metadata": {},
   "source": [
    "### Q7. When do you consider allowing operator overloading of your classes?"
   ]
  },
  {
   "cell_type": "markdown",
   "id": "0430fd84",
   "metadata": {},
   "source": [
    "When we want to have different meaning for the same operator accroding to the context we use operator overloading."
   ]
  },
  {
   "cell_type": "markdown",
   "id": "dc2e0961",
   "metadata": {},
   "source": [
    "### Q8. What is the most popular form of operator overloading?"
   ]
  },
  {
   "cell_type": "markdown",
   "id": "74c28c37",
   "metadata": {},
   "source": [
    " The most popular form of operator overloading in python is by special methods called Magic methods. Which usually beign and end with double underscore ` __<method name>__.`"
   ]
  },
  {
   "cell_type": "markdown",
   "id": "4374df3b",
   "metadata": {},
   "source": [
    "### Q9. What are the two most important concepts to grasp in order to comprehend Python OOP code?"
   ]
  },
  {
   "cell_type": "markdown",
   "id": "775ad394",
   "metadata": {},
   "source": [
    "Classes and objects are the two concepts to comprehend python OOP code as more formally objects are entities that represent instances of general abstract concept called class"
   ]
  },
  {
   "cell_type": "code",
   "execution_count": null,
   "id": "cf52230e",
   "metadata": {},
   "outputs": [],
   "source": []
  }
 ],
 "metadata": {
  "kernelspec": {
   "display_name": "Python 3 (ipykernel)",
   "language": "python",
   "name": "python3"
  },
  "language_info": {
   "codemirror_mode": {
    "name": "ipython",
    "version": 3
   },
   "file_extension": ".py",
   "mimetype": "text/x-python",
   "name": "python",
   "nbconvert_exporter": "python",
   "pygments_lexer": "ipython3",
   "version": "3.9.12"
  }
 },
 "nbformat": 4,
 "nbformat_minor": 5
}
