{
 "cells": [
  {
   "cell_type": "code",
   "execution_count": 2,
   "id": "c5323629",
   "metadata": {},
   "outputs": [],
   "source": [
    "class Car:\n",
    "    pass"
   ]
  },
  {
   "cell_type": "code",
   "execution_count": 3,
   "id": "8bef6646",
   "metadata": {},
   "outputs": [],
   "source": [
    "audiq7 = Car()"
   ]
  },
  {
   "cell_type": "code",
   "execution_count": 4,
   "id": "c0fd66e5",
   "metadata": {},
   "outputs": [],
   "source": [
    "audiq7.mileage = 10\n",
    "audiq7.year = 2020\n",
    "audiq7.make = 345\n",
    "audiq7.model = 'fsdf'"
   ]
  },
  {
   "cell_type": "code",
   "execution_count": 5,
   "id": "e22b83bd",
   "metadata": {},
   "outputs": [
    {
     "data": {
      "text/plain": [
       "2020"
      ]
     },
     "execution_count": 5,
     "metadata": {},
     "output_type": "execute_result"
    }
   ],
   "source": [
    "audiq7.year"
   ]
  },
  {
   "cell_type": "code",
   "execution_count": 6,
   "id": "7004f8a9",
   "metadata": {},
   "outputs": [],
   "source": [
    "nano = Car()"
   ]
  },
  {
   "cell_type": "code",
   "execution_count": 7,
   "id": "7147ff45",
   "metadata": {},
   "outputs": [],
   "source": [
    "nano.mileage = 15\n",
    "nano.year = 2020\n",
    "nano.make = 222\n",
    "nano.model = 'small'"
   ]
  },
  {
   "cell_type": "code",
   "execution_count": 8,
   "id": "8ff9d069",
   "metadata": {},
   "outputs": [
    {
     "name": "stdout",
     "output_type": "stream",
     "text": [
      "15 10\n"
     ]
    }
   ],
   "source": [
    "print(nano.mileage, audiq7.mileage)"
   ]
  },
  {
   "cell_type": "code",
   "execution_count": 9,
   "id": "62501bfa",
   "metadata": {},
   "outputs": [],
   "source": [
    "class Car:\n",
    "    def __init__(self,mileage,year,make,model):\n",
    "        self.mileage = mileage\n",
    "        self.year = year\n",
    "        self.make = make\n",
    "        self.model = model     "
   ]
  },
  {
   "cell_type": "code",
   "execution_count": 10,
   "id": "41a6e727",
   "metadata": {},
   "outputs": [],
   "source": [
    "nano = Car(15,2020,244,'small')\n",
    "audiq7 = Car(10,2020,345,'big')"
   ]
  },
  {
   "cell_type": "code",
   "execution_count": 11,
   "id": "93de4a96",
   "metadata": {},
   "outputs": [
    {
     "data": {
      "text/plain": [
       "15"
      ]
     },
     "execution_count": 11,
     "metadata": {},
     "output_type": "execute_result"
    }
   ],
   "source": [
    "nano.mileage"
   ]
  },
  {
   "cell_type": "code",
   "execution_count": 12,
   "id": "a3e84477",
   "metadata": {},
   "outputs": [
    {
     "data": {
      "text/plain": [
       "2020"
      ]
     },
     "execution_count": 12,
     "metadata": {},
     "output_type": "execute_result"
    }
   ],
   "source": [
    "audiq7.year"
   ]
  },
  {
   "cell_type": "code",
   "execution_count": 13,
   "id": "a410d738",
   "metadata": {},
   "outputs": [
    {
     "data": {
      "text/plain": [
       "345"
      ]
     },
     "execution_count": 13,
     "metadata": {},
     "output_type": "execute_result"
    }
   ],
   "source": [
    "audiq7.make"
   ]
  },
  {
   "cell_type": "code",
   "execution_count": 54,
   "id": "0f7b111f",
   "metadata": {},
   "outputs": [],
   "source": [
    "class Car2:\n",
    "    def __init__(a,m,y,ma,mo):\n",
    "        a.mileage = m\n",
    "        a.year = y\n",
    "        a.make = ma\n",
    "        a.model = mo\n",
    "    \n",
    "    def age(b,current_year):\n",
    "        return current_year - b.year\n",
    "    \n",
    "    def milage(self):\n",
    "        print(\"Print a milage of a car \",self.milage)\n",
    "        #return self.milage\n",
    "        \n",
    "    def __str__(c):\n",
    "        return \"This is my car class I have created\""
   ]
  },
  {
   "cell_type": "code",
   "execution_count": 55,
   "id": "1767fcf0",
   "metadata": {},
   "outputs": [],
   "source": [
    "nano67 = Car2(20,2020,35323,'2352523')\n"
   ]
  },
  {
   "cell_type": "code",
   "execution_count": 56,
   "id": "0b529b90",
   "metadata": {},
   "outputs": [
    {
     "name": "stdout",
     "output_type": "stream",
     "text": [
      "Print a milage of a car  <bound method Car2.milage of <__main__.Car2 object at 0x0000027FC15201C0>>\n"
     ]
    }
   ],
   "source": [
    "nano67.milage()"
   ]
  },
  {
   "cell_type": "code",
   "execution_count": 57,
   "id": "e324dff5",
   "metadata": {},
   "outputs": [
    {
     "data": {
      "text/plain": [
       "<__main__.Car2 at 0x27fc15201c0>"
      ]
     },
     "execution_count": 57,
     "metadata": {},
     "output_type": "execute_result"
    }
   ],
   "source": [
    "nano67"
   ]
  },
  {
   "cell_type": "code",
   "execution_count": 58,
   "id": "f7a3d44b",
   "metadata": {},
   "outputs": [
    {
     "name": "stdout",
     "output_type": "stream",
     "text": [
      "This is my car class I have created\n"
     ]
    }
   ],
   "source": [
    "print(nano67)"
   ]
  },
  {
   "cell_type": "code",
   "execution_count": 59,
   "id": "5c8be155",
   "metadata": {},
   "outputs": [
    {
     "name": "stdout",
     "output_type": "stream",
     "text": [
      "This is my car class I have created\n"
     ]
    }
   ],
   "source": [
    "print(nano67)"
   ]
  },
  {
   "cell_type": "code",
   "execution_count": 80,
   "id": "c0647120",
   "metadata": {},
   "outputs": [],
   "source": [
    "class Student:\n",
    "    \n",
    "    def __init__(self, name, rollno, joining_date, current_topic):\n",
    "        self.name = name\n",
    "        self.rollno = rollno\n",
    "        self.joining_date = joining_date\n",
    "        self.current_topic = current_topic\n",
    "        \n",
    "    def name_parsing(self):\n",
    "        if type(self.name) == list:\n",
    "            for i in self.name:\n",
    "                print(\"Name of the student is \",i)\n",
    "        else:\n",
    "            print(\"Provided name is not in a form of a list\")\n",
    "        \n",
    "    def crt_topic(self):\n",
    "        print(\"Current topic discussed in my class is \", self.current_topic)\n",
    "    \n",
    "    def str_rollno(self):\n",
    "        try:\n",
    "            if type(self.rollno)  == str:\n",
    "                print(\"Do nothing\")\n",
    "            else:\n",
    "                return str(self.rollno)\n",
    "        except Exception as e:\n",
    "            print(\"This is my error msg\",e)\n",
    "            \n",
    "    \n",
    "    def duration(self,current_date):\n",
    "        print(\"Duration of student in my class is \",current_date - self.joining_date)\n",
    "        \n",
    "    def __str__(self):\n",
    "        return \"This is a student class where they can try to input there own data and they can fetch it\"\n",
    "    \n",
    "        \n",
    "            "
   ]
  },
  {
   "cell_type": "code",
   "execution_count": 81,
   "id": "c31d1df6",
   "metadata": {},
   "outputs": [],
   "source": [
    "sohail = Student('Sohail',25,2022, 'oops')"
   ]
  },
  {
   "cell_type": "code",
   "execution_count": 82,
   "id": "dfd9cc1a",
   "metadata": {},
   "outputs": [
    {
     "name": "stdout",
     "output_type": "stream",
     "text": [
      "Duration of student in my class is  0\n"
     ]
    }
   ],
   "source": [
    "sohail.duration(2022)"
   ]
  },
  {
   "cell_type": "code",
   "execution_count": 83,
   "id": "35a5e37a",
   "metadata": {},
   "outputs": [
    {
     "data": {
      "text/plain": [
       "'25'"
      ]
     },
     "execution_count": 83,
     "metadata": {},
     "output_type": "execute_result"
    }
   ],
   "source": [
    "sohail.str_rollno()"
   ]
  },
  {
   "cell_type": "code",
   "execution_count": 84,
   "id": "dc65d383",
   "metadata": {},
   "outputs": [
    {
     "name": "stdout",
     "output_type": "stream",
     "text": [
      "This is a student class where they can try to input there own data and they can fetch it\n"
     ]
    }
   ],
   "source": [
    "print(sohail)"
   ]
  },
  {
   "cell_type": "code",
   "execution_count": 85,
   "id": "10f8b29d",
   "metadata": {},
   "outputs": [],
   "source": [
    "parvez = Student('Parvez',42,2021,'oops')"
   ]
  },
  {
   "cell_type": "code",
   "execution_count": 86,
   "id": "67674311",
   "metadata": {},
   "outputs": [
    {
     "name": "stdout",
     "output_type": "stream",
     "text": [
      "Duration of student in my class is  2\n"
     ]
    }
   ],
   "source": [
    "parvez.duration(2023)"
   ]
  },
  {
   "cell_type": "code",
   "execution_count": 87,
   "id": "8ef48891",
   "metadata": {},
   "outputs": [
    {
     "data": {
      "text/plain": [
       "'42'"
      ]
     },
     "execution_count": 87,
     "metadata": {},
     "output_type": "execute_result"
    }
   ],
   "source": [
    "parvez.str_rollno()"
   ]
  },
  {
   "cell_type": "code",
   "execution_count": 88,
   "id": "7ba553bb",
   "metadata": {},
   "outputs": [],
   "source": [
    "virat = Student('Virat','dsa',2021,'oops')"
   ]
  },
  {
   "cell_type": "code",
   "execution_count": 89,
   "id": "021831ff",
   "metadata": {},
   "outputs": [
    {
     "name": "stdout",
     "output_type": "stream",
     "text": [
      "Do nothing\n"
     ]
    }
   ],
   "source": [
    "virat.str_rollno()"
   ]
  },
  {
   "cell_type": "code",
   "execution_count": null,
   "id": "2f2bfaa5",
   "metadata": {},
   "outputs": [],
   "source": []
  },
  {
   "cell_type": "code",
   "execution_count": 90,
   "id": "c33f5ef3",
   "metadata": {},
   "outputs": [],
   "source": [
    "pawan = Student(['naveen','jay','himshu','prakash'],[23,25,26,62],2021,'oops')\n"
   ]
  },
  {
   "cell_type": "code",
   "execution_count": 91,
   "id": "95d9dbff",
   "metadata": {},
   "outputs": [
    {
     "name": "stdout",
     "output_type": "stream",
     "text": [
      "Name of the student is  naveen\n",
      "Name of the student is  jay\n",
      "Name of the student is  himshu\n",
      "Name of the student is  prakash\n"
     ]
    }
   ],
   "source": [
    "pawan.name_parsing()"
   ]
  },
  {
   "cell_type": "code",
   "execution_count": 92,
   "id": "07dcb742",
   "metadata": {},
   "outputs": [],
   "source": [
    "fab_4 = Student(['Virat','Root','Smith','Kane'],[18,66,47,22],2022,'cricket')\n"
   ]
  },
  {
   "cell_type": "code",
   "execution_count": 94,
   "id": "4a59ce44",
   "metadata": {},
   "outputs": [
    {
     "name": "stdout",
     "output_type": "stream",
     "text": [
      "Name of the student is  Virat\n",
      "Name of the student is  Root\n",
      "Name of the student is  Smith\n",
      "Name of the student is  Kane\n"
     ]
    }
   ],
   "source": [
    "fab_4.name_parsing()"
   ]
  },
  {
   "cell_type": "code",
   "execution_count": 95,
   "id": "0a597e72",
   "metadata": {},
   "outputs": [
    {
     "data": {
      "text/plain": [
       "'[18, 66, 47, 22]'"
      ]
     },
     "execution_count": 95,
     "metadata": {},
     "output_type": "execute_result"
    }
   ],
   "source": [
    "fab_4.str_rollno()"
   ]
  },
  {
   "cell_type": "code",
   "execution_count": 127,
   "id": "44ac2ad4",
   "metadata": {},
   "outputs": [],
   "source": [
    "# Level 1\n",
    "class Data:\n",
    "    \n",
    "    def __init__(self, filename, filetype, date, size):\n",
    "        self.filename = filename\n",
    "        self.filetype = filetype\n",
    "        self.date = date\n",
    "        self.size = size\n",
    "    \n",
    "    def __str__(self):\n",
    "        return \"This is a class to work with files with open, write, read, append methods\"\n",
    "    \n",
    "    \n",
    "    def file_open(self):\n",
    "        with open(f\"{self.filename}.{self.filetype}\",'w') as f:\n",
    "            f.write('write sometime')\n",
    "    \n",
    "    def file_read(self):\n",
    "        with open(f\"{self.filename}.{self.filetype}\",'r') as f:\n",
    "            r = f.read()\n",
    "            print(r)\n",
    "                \n",
    "    def file_append(self,write):\n",
    "        with open(f\"{self.filename}.{self.filetype}\",'a') as f:\n",
    "            f.write(write)\n",
    "                \n",
    "    "
   ]
  },
  {
   "cell_type": "code",
   "execution_count": 128,
   "id": "6813e6bc",
   "metadata": {},
   "outputs": [],
   "source": [
    "file1 = Data('myname', 'csv', 2022/6/30, 33)"
   ]
  },
  {
   "cell_type": "code",
   "execution_count": 129,
   "id": "ad6451ed",
   "metadata": {},
   "outputs": [],
   "source": [
    "file1.file_open()"
   ]
  },
  {
   "cell_type": "code",
   "execution_count": 130,
   "id": "cd2e6bfe",
   "metadata": {},
   "outputs": [
    {
     "data": {
      "text/plain": [
       "<__main__.Data at 0x27fc13b6670>"
      ]
     },
     "execution_count": 130,
     "metadata": {},
     "output_type": "execute_result"
    }
   ],
   "source": [
    "file1"
   ]
  },
  {
   "cell_type": "code",
   "execution_count": 131,
   "id": "b634794c",
   "metadata": {},
   "outputs": [
    {
     "name": "stdout",
     "output_type": "stream",
     "text": [
      "This is a class to work with files with open, write, read, append methods\n"
     ]
    }
   ],
   "source": [
    "print(file1)"
   ]
  },
  {
   "cell_type": "code",
   "execution_count": 132,
   "id": "9f579ff1",
   "metadata": {},
   "outputs": [
    {
     "name": "stdout",
     "output_type": "stream",
     "text": [
      "write sometime\n"
     ]
    }
   ],
   "source": [
    "file2 = file1.file_read()\n",
    "file2"
   ]
  },
  {
   "cell_type": "code",
   "execution_count": 133,
   "id": "7205384e",
   "metadata": {},
   "outputs": [],
   "source": [
    "file3  = file1.file_append('give some space then append')"
   ]
  },
  {
   "cell_type": "code",
   "execution_count": 134,
   "id": "9f102cab",
   "metadata": {},
   "outputs": [],
   "source": [
    "file3"
   ]
  },
  {
   "cell_type": "code",
   "execution_count": 135,
   "id": "48022ee9",
   "metadata": {},
   "outputs": [],
   "source": [
    "file1.file_open()"
   ]
  },
  {
   "cell_type": "code",
   "execution_count": null,
   "id": "ea60ac02",
   "metadata": {},
   "outputs": [],
   "source": [
    "# Level 2\n",
    "import logging as lg\n",
    "\n",
    "class Data2:\n",
    "    \n",
    "    def __init__(self, filename, filetype, date, size):\n",
    "        self.filename = filename\n",
    "        self.filetype = filetype\n",
    "        self.date = date\n",
    "        self.size = size\n",
    "    \n",
    "    def __str__(self):\n",
    "        return \"This is a class to work with files with open, write, read, append methods\"\n",
    "    \n",
    "    \n",
    "    def file_open(self):\n",
    "        try:\n",
    "            with open(self.filename,'w') as f:\n",
    "                f.write('write sometime')\n",
    "        except Exception as e:\n",
    "            self.logging(e)\n",
    "    \n",
    "    def file_read(self):\n",
    "        try:\n",
    "            with open(self.filename,'r') as f:\n",
    "                r = f.read()\n",
    "                print(r)\n",
    "        except Exeption as e:\n",
    "            self.logging(e)\n",
    "                \n",
    "    def file_append(self,write):\n",
    "        try:\n",
    "            with open(self.filename,'a') as f:\n",
    "                f.write(write)\n",
    "        except Exception as e:\n",
    "            self.logging(e)\n",
    "            \n",
    "    def logging(self,log):\n",
    "        lg.basicConfig(filename='OOPS.log',level=lg.ERROR)\n",
    "        lg.error(log)\n",
    "            \n",
    "                \n",
    "    "
   ]
  }
 ],
 "metadata": {
  "kernelspec": {
   "display_name": "Python 3 (ipykernel)",
   "language": "python",
   "name": "python3"
  },
  "language_info": {
   "codemirror_mode": {
    "name": "ipython",
    "version": 3
   },
   "file_extension": ".py",
   "mimetype": "text/x-python",
   "name": "python",
   "nbconvert_exporter": "python",
   "pygments_lexer": "ipython3",
   "version": "3.9.12"
  }
 },
 "nbformat": 4,
 "nbformat_minor": 5
}
