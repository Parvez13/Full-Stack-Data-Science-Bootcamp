{
 "cells": [
  {
   "cell_type": "markdown",
   "id": "c9496925",
   "metadata": {},
   "source": [
    "## Assignment-23"
   ]
  },
  {
   "cell_type": "markdown",
   "id": "fa8730ad",
   "metadata": {},
   "source": [
    "### 1. What is the result of the code, and why?\n",
    "### &gt;&gt;&gt; def func(a, b=6, c=8):\n",
    "### print(a, b, c)\n",
    "### &gt;&gt;&gt; func(1, 2)"
   ]
  },
  {
   "cell_type": "code",
   "execution_count": 1,
   "id": "50c1a304",
   "metadata": {},
   "outputs": [
    {
     "name": "stdout",
     "output_type": "stream",
     "text": [
      "1 2 8\n"
     ]
    }
   ],
   "source": [
    "def func(a,b=6,c=8):\n",
    "    print(a,b,c)\n",
    "func(1,2)"
   ]
  },
  {
   "cell_type": "markdown",
   "id": "eb0f49c3",
   "metadata": {},
   "source": [
    "The result of the above function gives us (1,2,8). Where  the default arguments values of b is 6, c is 8, a does not contain value.\n",
    "When we are passing calling function `func()` with argument (1,2) where the value 1 is stored in variable a, 2 is store to b (leaving the default argument value)"
   ]
  },
  {
   "cell_type": "markdown",
   "id": "3808f073",
   "metadata": {},
   "source": [
    "### 2. What is the result of this code, and why?\n",
    "### &gt;&gt;&gt; def func(a, b, c=5):\n",
    "### print(a, b, c)\n",
    "### &gt;&gt;&gt; func(1, c=3, b=2)"
   ]
  },
  {
   "cell_type": "code",
   "execution_count": 2,
   "id": "905bdb9f",
   "metadata": {},
   "outputs": [
    {
     "name": "stdout",
     "output_type": "stream",
     "text": [
      "1 2 3\n"
     ]
    }
   ],
   "source": [
    "def func(a,b,c=5):\n",
    "    print(a,b,c)\n",
    "func(1,c=3,b=2)"
   ]
  },
  {
   "cell_type": "markdown",
   "id": "a455516c",
   "metadata": {},
   "source": [
    "In our function there are three arguments(a,b,c) where one argument c contains value 5.\n",
    "When the function is called with the desired values of the user, it takes the input as ordered (a, b, c).\n",
    "When we are assinging a value to a particular variable without any order."
   ]
  },
  {
   "cell_type": "markdown",
   "id": "f4ecd027",
   "metadata": {},
   "source": [
    "### 3. How about this code: what is its result, and why?\n",
    "### &gt;&gt;&gt; def func(a, *pargs):\n",
    "### print(a, pargs)\n",
    "### &gt;&gt;&gt; func(1, 2, 3)"
   ]
  },
  {
   "cell_type": "code",
   "execution_count": 6,
   "id": "5437f03e",
   "metadata": {},
   "outputs": [
    {
     "name": "stdout",
     "output_type": "stream",
     "text": [
      "1 (2, 3)\n"
     ]
    }
   ],
   "source": [
    "def func(a,*pargs):\n",
    "    print(a,pargs)\n",
    "    \n",
    "func(1,2,3)"
   ]
  },
  {
   "cell_type": "markdown",
   "id": "8f9d65bb",
   "metadata": {},
   "source": [
    "The function takes two argument one is 'a' and other is '*pargs'.\n",
    "'*pargs' will takes any number of arguments when it is called it will return a tuple containing multiple values."
   ]
  },
  {
   "cell_type": "markdown",
   "id": "d0e24e30",
   "metadata": {},
   "source": [
    "### 4. What does this code print, and why?\n",
    "### &gt;&gt;&gt; def func(a, **kargs):\n",
    "### print(a, kargs)\n",
    "### &gt;&gt;&gt; func(a=1, c=3, b=2)"
   ]
  },
  {
   "cell_type": "code",
   "execution_count": 14,
   "id": "af47f3fc",
   "metadata": {},
   "outputs": [
    {
     "name": "stdout",
     "output_type": "stream",
     "text": [
      "1 {'c': 3, 'b': 2}\n"
     ]
    }
   ],
   "source": [
    "def func(a,**kargs):\n",
    "    print(a,kargs)\n",
    "func(a=1,c=3,b=2)"
   ]
  },
  {
   "cell_type": "markdown",
   "id": "339a3358",
   "metadata": {},
   "source": [
    "The function has two default arguments 'a' and `**kargs`. Where 'a' has to be given value when the function \n",
    "is called. \n",
    "Where `**kargs` takes any number of values but to pass in key-value pair combination and it will return\n",
    "a dictionary when function is called."
   ]
  },
  {
   "cell_type": "markdown",
   "id": "b76b8c1f",
   "metadata": {},
   "source": [
    "### 5. What gets printed by this, and explain?\n",
    "### &gt;&gt;&gt; def func(a, b, c=8, d=5): print(a, b, c, d)\n",
    "### &gt;&gt;&gt; func(1, *(5, 6))"
   ]
  },
  {
   "cell_type": "code",
   "execution_count": 26,
   "id": "56e2ef72",
   "metadata": {},
   "outputs": [
    {
     "name": "stdout",
     "output_type": "stream",
     "text": [
      "1 3 5 6\n"
     ]
    }
   ],
   "source": [
    "def func(a,b,c=8,d=5):\n",
    "    print(a,b,c,d)\n",
    "func(1,3,*(5,6))"
   ]
  },
  {
   "cell_type": "markdown",
   "id": "9993dbf2",
   "metadata": {},
   "source": [
    "The function is return an iterable where it takes four arguments. When the function is called by default we \n",
    "can pass to one or two argument,\n",
    "Here the return argument is passed in tuple with `*`(arg1,arg2).We can't pass more than two or less than two."
   ]
  },
  {
   "cell_type": "markdown",
   "id": "e9afeff4",
   "metadata": {},
   "source": [
    "### 6. what is the result of this, and explain?\n",
    "### &gt;&gt;&gt; def func(a, b, c): a = 2; b[0] = &#39;x&#39;; c[&#39;a&#39;] = &#39;y&#39;\n",
    "### &gt;&gt;&gt; l=1; m=[1]; n={&#39;a&#39;:0}\n",
    "### &gt;&gt;&gt; func(l, m, n)\n",
    "\n",
    "### &gt;&gt;&gt; l, m, n"
   ]
  },
  {
   "cell_type": "code",
   "execution_count": 28,
   "id": "681fe0cf",
   "metadata": {},
   "outputs": [
    {
     "data": {
      "text/plain": [
       "(1, ['x'], {'a': 'y'})"
      ]
     },
     "execution_count": 28,
     "metadata": {},
     "output_type": "execute_result"
    }
   ],
   "source": [
    "def func(a,b,c):\n",
    "    a=2;\n",
    "    b[0]='x';\n",
    "    c['a']='y'\n",
    "l=1;\n",
    "m=[1];\n",
    "n={'a':0}\n",
    "\n",
    "func(l,m,n)\n",
    "l,m,n"
   ]
  },
  {
   "cell_type": "markdown",
   "id": "5833fe29",
   "metadata": {},
   "source": [
    "* The output of above code is 1, ['x'], {'a': 'y'}.\n",
    "\n",
    "* Eventhough Python gives importance to indentation. its provides a facility to declare an entire function in one single line. where statements in a function body are sepereated by ;\n",
    "* When l,m,n are provided as inputs to the function. its modifies the values of l,m,n and sets the value of l=2 ,m=['x'] and n={'a':'y'}"
   ]
  },
  {
   "cell_type": "code",
   "execution_count": null,
   "id": "ba05adc9",
   "metadata": {},
   "outputs": [],
   "source": []
  }
 ],
 "metadata": {
  "kernelspec": {
   "display_name": "Python 3 (ipykernel)",
   "language": "python",
   "name": "python3"
  },
  "language_info": {
   "codemirror_mode": {
    "name": "ipython",
    "version": 3
   },
   "file_extension": ".py",
   "mimetype": "text/x-python",
   "name": "python",
   "nbconvert_exporter": "python",
   "pygments_lexer": "ipython3",
   "version": "3.9.12"
  }
 },
 "nbformat": 4,
 "nbformat_minor": 5
}
