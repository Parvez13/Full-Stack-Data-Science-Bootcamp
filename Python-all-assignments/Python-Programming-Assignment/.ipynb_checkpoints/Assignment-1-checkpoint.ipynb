{
 "cells": [
  {
   "cell_type": "markdown",
   "id": "5b67c80b",
   "metadata": {},
   "source": [
    "## Assignment-1"
   ]
  },
  {
   "cell_type": "markdown",
   "id": "48e7c9aa",
   "metadata": {},
   "source": [
    "### 1. Write a Python program to print &quot;Hello Python&quot;?"
   ]
  },
  {
   "cell_type": "code",
   "execution_count": 1,
   "id": "c66f279f",
   "metadata": {},
   "outputs": [
    {
     "name": "stdout",
     "output_type": "stream",
     "text": [
      "Hello Python\n"
     ]
    }
   ],
   "source": [
    "print(\"Hello Python\")"
   ]
  },
  {
   "cell_type": "markdown",
   "id": "f54260b1",
   "metadata": {},
   "source": [
    "### 2. Write a Python program to do arithmetical operations addition and division.?"
   ]
  },
  {
   "cell_type": "code",
   "execution_count": 2,
   "id": "19ea808e",
   "metadata": {},
   "outputs": [
    {
     "name": "stdout",
     "output_type": "stream",
     "text": [
      "Addition : 5\n",
      "Division : 2.0\n"
     ]
    }
   ],
   "source": [
    "print(f\"Addition : {3+2}\")\n",
    "print(f\"Division : {4/2}\")"
   ]
  },
  {
   "cell_type": "markdown",
   "id": "e24af51c",
   "metadata": {},
   "source": [
    "### 3. Write a Python program to find the area of a triangle?"
   ]
  },
  {
   "cell_type": "code",
   "execution_count": 3,
   "id": "7f2cbe27",
   "metadata": {},
   "outputs": [],
   "source": [
    "def areaOfTriangle(b,h):\n",
    "    \n",
    "    \"\"\"\n",
    "    To find the area of triangle using formula = 1/2 * b * h\n",
    "    \n",
    "    args:\n",
    "        b = base\n",
    "        h = height\n",
    "    \n",
    "    \"\"\"\n",
    "    \n",
    "    area = 1/2 * b * h\n",
    "    return area"
   ]
  },
  {
   "cell_type": "code",
   "execution_count": 6,
   "id": "399937d0",
   "metadata": {},
   "outputs": [
    {
     "data": {
      "text/plain": [
       "3.0"
      ]
     },
     "execution_count": 6,
     "metadata": {},
     "output_type": "execute_result"
    }
   ],
   "source": [
    "area = areaOfTriangle(b=3,h=2)\n",
    "area"
   ]
  },
  {
   "cell_type": "markdown",
   "id": "30141d6c",
   "metadata": {},
   "source": [
    "### 4. Write a Python program to swap two variables?"
   ]
  },
  {
   "cell_type": "code",
   "execution_count": 8,
   "id": "8b3c73ee",
   "metadata": {},
   "outputs": [
    {
     "name": "stdout",
     "output_type": "stream",
     "text": [
      "Enter first variable: sohail\n",
      "Enter second variable: parvez\n",
      "Before Swaping: ('sohail', 'parvez')\n",
      "After Swaping : ('parvez', 'sohail')\n"
     ]
    }
   ],
   "source": [
    "var_1 = input('Enter first variable: ')\n",
    "var_2 = input('Enter second variable: ')\n",
    "\n",
    "def swap_variables(arg1,arg2):\n",
    "    \n",
    "    temp = arg1\n",
    "    arg1 = arg2\n",
    "    arg2 = temp\n",
    "    return arg1,arg2\n",
    "\n",
    "print(f\"Before Swaping: {var_1, var_2}\")\n",
    "var1, var2 = swap_variables(var_1,var_2)\n",
    "print(f\"After Swaping : {var1, var2}\")"
   ]
  },
  {
   "cell_type": "markdown",
   "id": "d849b295",
   "metadata": {},
   "source": [
    "### 5. Write a Python program to generate a random number?"
   ]
  },
  {
   "cell_type": "code",
   "execution_count": 10,
   "id": "d8b3ba82",
   "metadata": {},
   "outputs": [
    {
     "name": "stdout",
     "output_type": "stream",
     "text": [
      "Random Number : 43\n"
     ]
    }
   ],
   "source": [
    "from random import randint\n",
    "\n",
    "def random_number(start,end):\n",
    "    print(f\"Random Number : {randint(start,end)}\")\n",
    "    \n",
    "random_number(0,100)"
   ]
  },
  {
   "cell_type": "code",
   "execution_count": null,
   "id": "d561458f",
   "metadata": {},
   "outputs": [],
   "source": []
  }
 ],
 "metadata": {
  "kernelspec": {
   "display_name": "Python 3 (ipykernel)",
   "language": "python",
   "name": "python3"
  },
  "language_info": {
   "codemirror_mode": {
    "name": "ipython",
    "version": 3
   },
   "file_extension": ".py",
   "mimetype": "text/x-python",
   "name": "python",
   "nbconvert_exporter": "python",
   "pygments_lexer": "ipython3",
   "version": "3.9.12"
  }
 },
 "nbformat": 4,
 "nbformat_minor": 5
}
