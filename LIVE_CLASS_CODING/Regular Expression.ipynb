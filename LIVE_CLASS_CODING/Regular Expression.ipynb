{
 "cells": [
  {
   "cell_type": "code",
   "execution_count": 1,
   "metadata": {},
   "outputs": [],
   "source": [
    "import re"
   ]
  },
  {
   "cell_type": "code",
   "execution_count": 3,
   "metadata": {},
   "outputs": [],
   "source": [
    "wikipedia = \"\"\"\n",
    "A regular expression (shortened as regex or regexp;[1] sometimes referred to as rational \n",
    "expression[2][3]) is a sequence of characters that specifies a search pattern in text. \n",
    "Usually such patterns are used by string-searching algorithms for \"find\" or \"find and replace\" \n",
    "operations on strings, or for input validation. Regular expression techniques are developed in \n",
    "theoretical computer science and formal language theory.\n",
    "\n",
    "The concept of regular expressions began in the 1950s, when the American mathematician \n",
    "Stephen Cole Kleene formalized the concept of a regular language. They came into common use with \n",
    "Unix text-processing utilities. Different syntaxes for writing regular expressions have existed since \n",
    "the 1980s, one being the POSIX standard and another, widely used, being the Perl syntax.\n",
    "\n",
    "Regular expressions are used in search engines, in search and replace dialogs of word processors and \n",
    "text editors, in text processing utilities such as sed and AWK, and in lexical analysis. Most \n",
    "general-purpose programming languages support regex capabilities either natively or via libraries, \n",
    "including for example Python,[4] C,[5] C++,[6] Java,[7] and JavaScript.[8]\n",
    "\n",
    "\"\"\""
   ]
  },
  {
   "cell_type": "code",
   "execution_count": 4,
   "metadata": {},
   "outputs": [
    {
     "data": {
      "text/plain": [
       "'\\nA regular expression (shortened as regex or regexp;[1] sometimes referred to as rational \\nexpression[2][3]) is a sequence of characters that specifies a search pattern in text. \\nUsually such patterns are used by string-searching algorithms for \"find\" or \"find and replace\" \\noperations on strings, or for input validation. Regular expression techniques are developed in \\ntheoretical computer science and formal language theory.\\n\\nThe concept of regular expressions began in the 1950s, when the American mathematician \\nStephen Cole Kleene formalized the concept of a regular language. They came into common use with \\nUnix text-processing utilities. Different syntaxes for writing regular expressions have existed since \\nthe 1980s, one being the POSIX standard and another, widely used, being the Perl syntax.\\n\\nRegular expressions are used in search engines, in search and replace dialogs of word processors and \\ntext editors, in text processing utilities such as sed and AWK, and in lexical analysis. Most \\ngeneral-purpose programming languages support regex capabilities either natively or via libraries, \\nincluding for example Python,[4] C,[5] C++,[6] Java,[7] and JavaScript.[8]\\n\\n'"
      ]
     },
     "execution_count": 4,
     "metadata": {},
     "output_type": "execute_result"
    }
   ],
   "source": [
    "wikipedia\n"
   ]
  },
  {
   "cell_type": "code",
   "execution_count": 22,
   "metadata": {},
   "outputs": [],
   "source": [
    "pattern = re.compile(r'ai+')\n",
    "matches = pattern.finditer(wikipedia)\n",
    "for match in matches:\n",
    "    print(match)"
   ]
  },
  {
   "cell_type": "code",
   "execution_count": 20,
   "metadata": {},
   "outputs": [
    {
     "data": {
      "text/plain": [
       "'a'"
      ]
     },
     "execution_count": 20,
     "metadata": {},
     "output_type": "execute_result"
    }
   ],
   "source": [
    "wikipedia[8:9]"
   ]
  },
  {
   "cell_type": "code",
   "execution_count": 9,
   "metadata": {},
   "outputs": [
    {
     "data": {
      "text/plain": [
       "'Java'"
      ]
     },
     "execution_count": 9,
     "metadata": {},
     "output_type": "execute_result"
    }
   ],
   "source": [
    "wikipedia[1165:1169]"
   ]
  },
  {
   "cell_type": "code",
   "execution_count": 23,
   "metadata": {},
   "outputs": [
    {
     "data": {
      "text/plain": [
       "<re.Match object; span=(0, 17), match='The rain in Spain'>"
      ]
     },
     "execution_count": 23,
     "metadata": {},
     "output_type": "execute_result"
    }
   ],
   "source": [
    "txt = \"The rain in Spain\"\n",
    "x = re.search(\"^The.*Spain$\",txt)\n",
    "x"
   ]
  },
  {
   "cell_type": "code",
   "execution_count": 24,
   "metadata": {},
   "outputs": [
    {
     "data": {
      "text/plain": [
       "'The rain in Spain'"
      ]
     },
     "execution_count": 24,
     "metadata": {},
     "output_type": "execute_result"
    }
   ],
   "source": [
    "txt[0:17]"
   ]
  },
  {
   "cell_type": "code",
   "execution_count": 25,
   "metadata": {},
   "outputs": [
    {
     "name": "stdout",
     "output_type": "stream",
     "text": [
      "['ai', 'ai']\n"
     ]
    }
   ],
   "source": [
    "x = re.findall(\"ai\",txt)\n",
    "print(x)"
   ]
  },
  {
   "cell_type": "code",
   "execution_count": 28,
   "metadata": {},
   "outputs": [
    {
     "name": "stdout",
     "output_type": "stream",
     "text": [
      "['pattern', 'pattern']\n"
     ]
    }
   ],
   "source": [
    "x = re.findall(\"pattern\",wikipedia)\n",
    "print(x)"
   ]
  },
  {
   "cell_type": "code",
   "execution_count": 30,
   "metadata": {},
   "outputs": [
    {
     "name": "stdout",
     "output_type": "stream",
     "text": [
      "<re.Match object; span=(161, 168), match='pattern'>\n"
     ]
    }
   ],
   "source": [
    "x = re.search(\"pattern\",wikipedia)\n",
    "print(x)"
   ]
  },
  {
   "cell_type": "code",
   "execution_count": 31,
   "metadata": {},
   "outputs": [
    {
     "data": {
      "text/plain": [
       "'pattern'"
      ]
     },
     "execution_count": 31,
     "metadata": {},
     "output_type": "execute_result"
    }
   ],
   "source": [
    "wikipedia[161:168]"
   ]
  },
  {
   "cell_type": "code",
   "execution_count": 32,
   "metadata": {},
   "outputs": [
    {
     "data": {
      "text/plain": [
       "[]"
      ]
     },
     "execution_count": 32,
     "metadata": {},
     "output_type": "execute_result"
    }
   ],
   "source": [
    "x = re.findall(\"Portugal\",txt)\n",
    "x"
   ]
  },
  {
   "cell_type": "code",
   "execution_count": null,
   "metadata": {},
   "outputs": [],
   "source": []
  }
 ],
 "metadata": {
  "kernelspec": {
   "display_name": "Python 3",
   "language": "python",
   "name": "python3"
  },
  "language_info": {
   "codemirror_mode": {
    "name": "ipython",
    "version": 3
   },
   "file_extension": ".py",
   "mimetype": "text/x-python",
   "name": "python",
   "nbconvert_exporter": "python",
   "pygments_lexer": "ipython3",
   "version": "3.8.3"
  }
 },
 "nbformat": 4,
 "nbformat_minor": 4
}
