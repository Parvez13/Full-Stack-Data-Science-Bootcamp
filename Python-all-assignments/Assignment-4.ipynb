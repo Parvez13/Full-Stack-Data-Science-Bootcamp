{
 "cells": [
  {
   "cell_type": "markdown",
   "metadata": {},
   "source": [
    "## Assignment- 4"
   ]
  },
  {
   "cell_type": "markdown",
   "metadata": {},
   "source": [
    "### 1. What exactly is []?\n",
    "\n",
    "It is a square brackets which are used to represent a list. Where, if no element is present in it then it is called an empty litst"
   ]
  },
  {
   "cell_type": "markdown",
   "metadata": {},
   "source": [
    "### 2. In a list of values stored in a variable called spam, how would you assign the value &#39;hello&#39; as the third value? (Assume [2, 4, 6, 8, 10] are in spam.)"
   ]
  },
  {
   "cell_type": "code",
   "execution_count": 3,
   "metadata": {},
   "outputs": [
    {
     "name": "stdout",
     "output_type": "stream",
     "text": [
      "Print spam variable containing list: [2, 4, 6, 8, 10]\n",
      "Third value in the spam variable : 6\n",
      "Printing spam variable with replacing of third value : [2, 4, 'hello', 8, 10]\n",
      "Third value : hello\n"
     ]
    }
   ],
   "source": [
    "spam = [2,4,6,8,10]\n",
    "print(f\"Print spam variable containing list: {spam}\")\n",
    "print(f\"Third value in the spam variable : {spam[2]}\")\n",
    "spam[2] = 'hello'\n",
    "print(f\"Printing spam variable with replacing of third value : {spam}\")\n",
    "print(f\"Third value : {spam[2]}\")"
   ]
  },
  {
   "cell_type": "markdown",
   "metadata": {},
   "source": [
    "### 3. What is the value of spam[int(int(&#39;3&#39; * 2) / 11)]?"
   ]
  },
  {
   "cell_type": "code",
   "execution_count": 8,
   "metadata": {},
   "outputs": [
    {
     "data": {
      "text/plain": [
       "'d'"
      ]
     },
     "execution_count": 8,
     "metadata": {},
     "output_type": "execute_result"
    }
   ],
   "source": [
    "spam = ['a','b','c','d']\n",
    "spam[int(int('3'*2)/11)]"
   ]
  },
  {
   "cell_type": "markdown",
   "metadata": {},
   "source": [
    "### 4. What is the value of spam[-1]?"
   ]
  },
  {
   "cell_type": "code",
   "execution_count": 9,
   "metadata": {},
   "outputs": [
    {
     "data": {
      "text/plain": [
       "'d'"
      ]
     },
     "execution_count": 9,
     "metadata": {},
     "output_type": "execute_result"
    }
   ],
   "source": [
    "# indexing the last element from the list\n",
    "spam[-1]"
   ]
  },
  {
   "cell_type": "markdown",
   "metadata": {},
   "source": [
    "### 5. What is the value of spam[:2]?"
   ]
  },
  {
   "cell_type": "code",
   "execution_count": 10,
   "metadata": {},
   "outputs": [
    {
     "data": {
      "text/plain": [
       "['a', 'b']"
      ]
     },
     "execution_count": 10,
     "metadata": {},
     "output_type": "execute_result"
    }
   ],
   "source": [
    "# Get the values from index '0' to '2'(exclude it's index)\n",
    "spam[:2]"
   ]
  },
  {
   "cell_type": "markdown",
   "metadata": {},
   "source": [
    "### 6. What is the value of bacon.index(&#39;cat&#39;)?"
   ]
  },
  {
   "cell_type": "code",
   "execution_count": 13,
   "metadata": {},
   "outputs": [
    {
     "data": {
      "text/plain": [
       "1"
      ]
     },
     "execution_count": 13,
     "metadata": {},
     "output_type": "execute_result"
    }
   ],
   "source": [
    "bacon = [3.14, 'cat', 11, 'cat', True]\n",
    "bacon.index('cat')"
   ]
  },
  {
   "cell_type": "markdown",
   "metadata": {},
   "source": [
    "### 7. How does bacon.append(99) change the look of the list value in bacon?"
   ]
  },
  {
   "cell_type": "code",
   "execution_count": 14,
   "metadata": {},
   "outputs": [
    {
     "name": "stdout",
     "output_type": "stream",
     "text": [
      "[3.14, 'cat', 11, 'cat', True]\n",
      "[3.14, 'cat', 11, 'cat', True, 99]\n"
     ]
    }
   ],
   "source": [
    "print(bacon)\n",
    "bacon.append(99)\n",
    "print(bacon)"
   ]
  },
  {
   "cell_type": "markdown",
   "metadata": {},
   "source": [
    "### 8. How does bacon.remove(&#39;cat&#39;) change the look of the list in bacon?"
   ]
  },
  {
   "cell_type": "code",
   "execution_count": 15,
   "metadata": {},
   "outputs": [
    {
     "name": "stdout",
     "output_type": "stream",
     "text": [
      "[3.14, 'cat', 11, 'cat', True, 99]\n",
      "[3.14, 11, 'cat', True, 99]\n"
     ]
    }
   ],
   "source": [
    "print(bacon)\n",
    "bacon.remove('cat')\n",
    "print(bacon)"
   ]
  },
  {
   "cell_type": "markdown",
   "metadata": {},
   "source": [
    "### 9. What are the list concatenation and list replication operators?\n",
    "\n",
    "* The list concatenation operator : `+`\n",
    "\n",
    "* The list replication operator : `*`"
   ]
  },
  {
   "cell_type": "code",
   "execution_count": 23,
   "metadata": {},
   "outputs": [
    {
     "name": "stdout",
     "output_type": "stream",
     "text": [
      "List concatenation: [1, 2, 3, 4, 5, 6, 7, 8, 9, 10]\n",
      "List replication : [1, 2, 3, 4, 5, 1, 2, 3, 4, 5]\n"
     ]
    }
   ],
   "source": [
    "numbers = [1, 2, 3, 4, 5]\n",
    "numbers_2 = [6, 7, 8, 9, 10]\n",
    "\n",
    "# List concatenation\n",
    "print(f\"List concatenation: {numbers + numbers_2}\")\n",
    "\n",
    "# # List replication\n",
    "print(f\"List replication : {numbers * 2}\")"
   ]
  },
  {
   "cell_type": "markdown",
   "metadata": {},
   "source": [
    "### 10. What is difference between the list methods append() and insert()?\n",
    "\n",
    "* `append()`: This method takes only single argument and used to add that argument at the end of the list.\n",
    "* `insert()` : This method takes two arguments, where first argument is indexing and second argument is the value."
   ]
  },
  {
   "cell_type": "code",
   "execution_count": 29,
   "metadata": {},
   "outputs": [
    {
     "name": "stdout",
     "output_type": "stream",
     "text": [
      "my_list: [25, 80, 75, 50, 100]\n",
      "my_list after inserting a value : [25, 80, 1, 75, 50, 100]\n",
      "my_list after appending a value : [25, 80, 1, 75, 50, 100, 29]\n"
     ]
    }
   ],
   "source": [
    "my_list = [25, 80, 75, 50, 100]\n",
    "print(f\"my_list: {my_list}\")\n",
    "my_list.insert(2, 1)\n",
    "print(f\"my_list after inserting a value : {my_list}\")\n",
    "my_list.append(29)\n",
    "print(f\"my_list after appending a value : {my_list}\")"
   ]
  },
  {
   "cell_type": "code",
   "execution_count": 27,
   "metadata": {},
   "outputs": [
    {
     "data": {
      "text/plain": [
       "[25, 80, 1, 75, 50, 100]"
      ]
     },
     "execution_count": 27,
     "metadata": {},
     "output_type": "execute_result"
    }
   ],
   "source": [
    "my_list"
   ]
  },
  {
   "cell_type": "markdown",
   "metadata": {},
   "source": [
    "### 11. What are the two methods for removing items from a list?\n",
    "\n",
    "The two methods for removing items from a list are `pop()` and `remove()`"
   ]
  },
  {
   "cell_type": "code",
   "execution_count": 30,
   "metadata": {},
   "outputs": [
    {
     "name": "stdout",
     "output_type": "stream",
     "text": [
      "Animals : ['lion', 'tiger', 'fox', 'cat', 'elephant', 'dog', 'fox', 'tiger']\n",
      "Animals : ['lion', 'tiger', 'fox', 'cat', 'elephant', 'dog', 'fox']\n",
      "Animals: ['lion', 'tiger', 'cat', 'elephant', 'dog', 'fox']\n"
     ]
    }
   ],
   "source": [
    "animals = ['lion', 'tiger', 'fox', 'cat', 'elephant', 'dog', 'fox', 'tiger']\n",
    "print(f\"Animals : {animals}\")\n",
    "# pop() is only used to remove items at the end\n",
    "animals.pop()\n",
    "print(f\"Animals : {animals}\")\n",
    "# It we directly remove the item with its name is called,\n",
    "# If there are similar items are present. It will remove the first and the next\n",
    "animals.remove('fox')\n",
    "print(f\"Animals: {animals}\")"
   ]
  },
  {
   "cell_type": "markdown",
   "metadata": {},
   "source": [
    "### 12. Describe how list values and string values are identical.\n",
    "\n",
    "Both are in sequence ordered. "
   ]
  },
  {
   "cell_type": "code",
   "execution_count": 31,
   "metadata": {},
   "outputs": [],
   "source": [
    "my_list = ['name', 'age']\n",
    "my_string = 'my name is sohail and i am 20 years of age'"
   ]
  },
  {
   "cell_type": "markdown",
   "metadata": {},
   "source": [
    "### 13. What is the difference between tuples and lists?\n",
    "* The tuples are immutable and lists are mutable. \n",
    "* Both can accept any datatype\n",
    "* Tuples are fast and lists are a little bit slow.\n",
    "* Tuples takes less memory and lists consumes more memory"
   ]
  },
  {
   "cell_type": "markdown",
   "metadata": {},
   "source": [
    "### 14. How do you type a tuple value that only contains the integer 42?"
   ]
  },
  {
   "cell_type": "code",
   "execution_count": 37,
   "metadata": {},
   "outputs": [
    {
     "name": "stdout",
     "output_type": "stream",
     "text": [
      "42\n"
     ]
    }
   ],
   "source": [
    "tuple_1 = (100, 89, 42, 63, 77)\n",
    "a, b, c, d, e = tuple_1\n",
    "print(c)"
   ]
  },
  {
   "cell_type": "markdown",
   "metadata": {},
   "source": [
    "### 15. How do you get a list value&#39;s tuple form? How do you get a tuple value&#39;s list form?"
   ]
  },
  {
   "cell_type": "code",
   "execution_count": 41,
   "metadata": {},
   "outputs": [
    {
     "name": "stdout",
     "output_type": "stream",
     "text": [
      "my_list: [10, 20, 30, 40, 50]\n",
      "my_list_tuple: (10, 20, 30, 40, 50)\n",
      "my_tuple: (100, 200, 300, 400, 500)\n",
      "my_tuple_list: [100, 200, 300, 400, 500]\n"
     ]
    }
   ],
   "source": [
    "my_list = [10, 20, 30, 40, 50]\n",
    "print(f\"my_list: {my_list}\")\n",
    "my_list_tuple = tuple(my_list)\n",
    "print(f\"my_list_tuple: {my_list_tuple}\")\n",
    "my_tuple = (100, 200, 300, 400, 500)\n",
    "print(f\"my_tuple: {my_tuple}\")\n",
    "my_tuple_list = list(my_tuple)\n",
    "print(f\"my_tuple_list: {my_tuple_list}\")"
   ]
  },
  {
   "cell_type": "markdown",
   "metadata": {},
   "source": [
    "### 16. Variables that &quot;contain&quot; list values are not necessarily lists themselves. Instead, what do they contain?"
   ]
  },
  {
   "cell_type": "code",
   "execution_count": 43,
   "metadata": {},
   "outputs": [
    {
     "data": {
      "text/plain": [
       "list"
      ]
     },
     "execution_count": 43,
     "metadata": {},
     "output_type": "execute_result"
    }
   ],
   "source": [
    "a = [1,2,3]\n",
    "type(a)\n",
    "#its just a name reference because list itself is a object"
   ]
  },
  {
   "cell_type": "markdown",
   "metadata": {},
   "source": [
    "### 17. How do you distinguish between copy.copy() and copy.deepcopy()?\n",
    "deepcopy does not change original object if in future we change deepcopied object. where as original object changes with copy()"
   ]
  },
  {
   "cell_type": "code",
   "execution_count": null,
   "metadata": {},
   "outputs": [],
   "source": []
  }
 ],
 "metadata": {
  "kernelspec": {
   "display_name": "Python 3",
   "language": "python",
   "name": "python3"
  },
  "language_info": {
   "codemirror_mode": {
    "name": "ipython",
    "version": 3
   },
   "file_extension": ".py",
   "mimetype": "text/x-python",
   "name": "python",
   "nbconvert_exporter": "python",
   "pygments_lexer": "ipython3",
   "version": "3.8.3"
  }
 },
 "nbformat": 4,
 "nbformat_minor": 4
}
