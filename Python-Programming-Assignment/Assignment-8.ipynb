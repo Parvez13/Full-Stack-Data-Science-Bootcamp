{
 "cells": [
  {
   "cell_type": "markdown",
   "id": "eabae40a",
   "metadata": {},
   "source": [
    "## Assignment-8"
   ]
  },
  {
   "cell_type": "markdown",
   "id": "ffe77202",
   "metadata": {},
   "source": [
    "### 1. Write a Python Program to Add Two Matrices?"
   ]
  },
  {
   "cell_type": "code",
   "execution_count": 29,
   "id": "8fbfd600",
   "metadata": {},
   "outputs": [
    {
     "name": "stdout",
     "output_type": "stream",
     "text": [
      "Input: [[4, 5, 5], [3, 5, 3]],[[2, 3, 5], [13, 5, 3]]\n",
      "2\n",
      "[4, 5, 5]\n",
      "[2, 3, 5]\n",
      "2\n",
      "[3, 5, 3]\n",
      "[13, 5, 3]\n",
      "----------------------------------------------------------------------------------------------------\n",
      "Output_matrix: [[6, 8, 10], [16, 10, 6]]\n"
     ]
    }
   ],
   "source": [
    "def add_matrices(a,b):\n",
    "    try:\n",
    "        print(f\"Input: {a},{b}\")\n",
    "        if len(a) == len(b):\n",
    "            out_matrix = []\n",
    "            for i in range(len(a)):\n",
    "                print(len(a))\n",
    "                if len(a[i]) == len(b[i]):\n",
    "                    out_matrix.append([])\n",
    "                    for j in range(len(a[i])):\n",
    "                        out_matrix[i].append(a[i][j]+b[i][j])\n",
    "                else:\n",
    "                    print(\"-\"*100)\n",
    "                    print(\"Both rows and columns must be same number\")\n",
    "        else:\n",
    "            print(\"-\"*100)\n",
    "            print(\"Both rows and columns must be same number\")\n",
    "        print(\"-\"*100)\n",
    "        print(f\"Output_matrix: {out_matrix}\")\n",
    "    except Exception as e:\n",
    "        print(\"-\"*100)\n",
    "        print(f\"ERROR!!: {str(e)}\")\n",
    "\n",
    "matrix_1 = [[4,5,5],[3,5,3]]\n",
    "matrix_2 = [[2,3,5],[13,5,3]]\n",
    "\n",
    "add_matrices(matrix_1,matrix_2)"
   ]
  },
  {
   "cell_type": "markdown",
   "id": "9be23899",
   "metadata": {},
   "source": [
    "### 2. Write a Python Program to Multiply Two Matrices?\n"
   ]
  },
  {
   "cell_type": "code",
   "execution_count": 36,
   "id": "41c031a8",
   "metadata": {},
   "outputs": [
    {
     "name": "stdout",
     "output_type": "stream",
     "text": [
      "Input: ([[1, 3, 5], [3, 5, 5]], [[3, 5, 6], [3, 6, 7]])\n",
      "3\n",
      "3\n",
      "Output: [[3, 15, 30], [9, 30, 35]]\n"
     ]
    }
   ],
   "source": [
    "def multiply_matrices(mat1,mat2):\n",
    "    print(f\"Input: {mat1,mat2}\")\n",
    "    if len(mat1) == len(mat2):\n",
    "        output_mat = []\n",
    "        for i in range(len(mat1)):\n",
    "            if len(mat1[i]) == len(mat2[i]):\n",
    "                output_mat.append([])\n",
    "                for j in range(len(mat1[i])):\n",
    "                    output_mat[i].append(mat1[i][j]*mat2[i][j])\n",
    "            else:\n",
    "                print(\"Both rows and columns are must be same\")\n",
    "\n",
    "    else:\n",
    "        print(\"Both rows and columns are must be same\")\n",
    "    print(f\"Output: {output_mat}\")\n",
    "    \n",
    "mat1 = [[1,3,5],[3,5,5]]\n",
    "mat2 = [[3,5,6],[3,6,7]]\n",
    "multiply_matrices(mat1,mat2)"
   ]
  },
  {
   "cell_type": "markdown",
   "id": "4d0e48e0",
   "metadata": {},
   "source": [
    "### 3. Write a Python Program to Transpose a Matrix?"
   ]
  },
  {
   "cell_type": "code",
   "execution_count": 37,
   "id": "d97731f2",
   "metadata": {},
   "outputs": [
    {
     "name": "stdout",
     "output_type": "stream",
     "text": [
      "[[1, 2, 3], [4, 5, 6], [7, 8, 9]] -> [[1, 4, 7], [2, 5, 8], [3, 6, 9]]\n",
      "[[1, 2], [4, 5], [7, 8]] -> [[1, 4, 7], [2, 5, 8]]\n",
      "[[1, 2, 3], [4, 5, 6]] -> [[1, 4], [2, 5], [3, 6]]\n"
     ]
    }
   ],
   "source": [
    "a = [[1,2,3],[4,5,6],[7,8,9]]\n",
    "b = [[1,2],[4,5],[7,8]]\n",
    "c = [[1,2,3],[4,5,6]]\n",
    "\n",
    "def generate_transpose(in_matrix):\n",
    "    out_matrix = []\n",
    "    for ele in range(len(in_matrix[0])):\n",
    "        out_matrix.append([0 for i in range(len(in_matrix))])\n",
    "    for i in range(len(in_matrix)):\n",
    "        for j in range(len(in_matrix[i])):\n",
    "            out_matrix[j][i] = in_matrix[i][j]\n",
    "    print(f'{in_matrix} -> {out_matrix}')\n",
    "        \n",
    "generate_transpose(a)\n",
    "generate_transpose(b)\n",
    "generate_transpose(c)"
   ]
  },
  {
   "cell_type": "markdown",
   "id": "3a1eccee",
   "metadata": {},
   "source": [
    "### 4. Write a Python Program to sort Words in an Alphabatical Order ?"
   ]
  },
  {
   "cell_type": "code",
   "execution_count": 43,
   "id": "477a1d2b",
   "metadata": {},
   "outputs": [
    {
     "name": "stdout",
     "output_type": "stream",
     "text": [
      "Enter a String: Python Program to sort Words in an Alphabatical Order\n",
      "Python Program To Sort Words In An Alphabatical Order\n",
      "Alphabatical An In Order Program Python Sort To Words\n"
     ]
    }
   ],
   "source": [
    "def sortString():\n",
    "    in_string = input(\"Enter a String: \").title()\n",
    "    print(in_string)\n",
    "    #print(in_string.split(''))\n",
    "    sorted_list = sorted(in_string.split(' '))\n",
    "   # print(sorted_list)\n",
    "    print(' '.join(sorted_list))\n",
    "\n",
    "sortString()\n"
   ]
  },
  {
   "cell_type": "markdown",
   "id": "7379cfec",
   "metadata": {},
   "source": [
    "### 5. Write a Python Program to remove Punctuations From a String ?"
   ]
  },
  {
   "cell_type": "code",
   "execution_count": 46,
   "id": "07717270",
   "metadata": {},
   "outputs": [
    {
     "name": "stdout",
     "output_type": "stream",
     "text": [
      "Enter a String: \"Sohail Parvez is my name\"\n",
      "Sohail Parvez is my name\n"
     ]
    }
   ],
   "source": [
    "def removePunctuatuions():\n",
    "    punctuations = '''!()-[]{};:'\"\\,<>./?@#$%^&*_~'''\n",
    "    in_string = input('Enter a String: ')\n",
    "    out_string = ''\n",
    "    for ele in in_string:\n",
    "        if ele not in punctuations:\n",
    "            out_string += ele\n",
    "    print(out_string)\n",
    "    \n",
    "removePunctuatuions()"
   ]
  },
  {
   "cell_type": "code",
   "execution_count": null,
   "id": "a4827bce",
   "metadata": {},
   "outputs": [],
   "source": []
  }
 ],
 "metadata": {
  "kernelspec": {
   "display_name": "Python 3 (ipykernel)",
   "language": "python",
   "name": "python3"
  },
  "language_info": {
   "codemirror_mode": {
    "name": "ipython",
    "version": 3
   },
   "file_extension": ".py",
   "mimetype": "text/x-python",
   "name": "python",
   "nbconvert_exporter": "python",
   "pygments_lexer": "ipython3",
   "version": "3.9.12"
  }
 },
 "nbformat": 4,
 "nbformat_minor": 5
}
