{
 "cells": [
  {
   "cell_type": "code",
   "execution_count": 3,
   "metadata": {},
   "outputs": [
    {
     "name": "stdout",
     "output_type": "stream",
     "text": [
      "Hello\n"
     ]
    }
   ],
   "source": [
    "print('Hello')"
   ]
  },
  {
   "cell_type": "code",
   "execution_count": 4,
   "metadata": {},
   "outputs": [
    {
     "ename": "SyntaxError",
     "evalue": "EOL while scanning string literal (<ipython-input-4-db8c9988558c>, line 1)",
     "output_type": "error",
     "traceback": [
      "\u001b[1;36m  File \u001b[1;32m\"<ipython-input-4-db8c9988558c>\"\u001b[1;36m, line \u001b[1;32m1\u001b[0m\n\u001b[1;33m    print('Hello)\u001b[0m\n\u001b[1;37m                 ^\u001b[0m\n\u001b[1;31mSyntaxError\u001b[0m\u001b[1;31m:\u001b[0m EOL while scanning string literal\n"
     ]
    }
   ],
   "source": [
    "print('Hello)"
   ]
  },
  {
   "cell_type": "code",
   "execution_count": 5,
   "metadata": {},
   "outputs": [
    {
     "name": "stdout",
     "output_type": "stream",
     "text": [
      "Content written successfully\n"
     ]
    }
   ],
   "source": [
    "# try-except , else\n",
    "try:\n",
    "    f = open('my_file','w')\n",
    "    f.write('Test')\n",
    "except:\n",
    "    pass\n",
    "else:\n",
    "    print('Content written successfully')\n",
    "    f.close()"
   ]
  },
  {
   "cell_type": "code",
   "execution_count": 6,
   "metadata": {},
   "outputs": [
    {
     "name": "stdout",
     "output_type": "stream",
     "text": [
      "Always execute finally code blocks\n"
     ]
    }
   ],
   "source": [
    "# try finally\n",
    "try:\n",
    "    f = open('testfile','w')\n",
    "    f.write('Test write statement')\n",
    "finally:\n",
    "    print('Always execute finally code blocks')"
   ]
  },
  {
   "cell_type": "code",
   "execution_count": 7,
   "metadata": {},
   "outputs": [],
   "source": [
    "def askint():\n",
    "    try:\n",
    "        val = int(input('Please enter an integer: '))\n",
    "    except:\n",
    "        print('Looks like you did not enter an integer')\n",
    "    finally:\n",
    "        print(\"Finally, I executed\")\n",
    "    print(val)"
   ]
  },
  {
   "cell_type": "code",
   "execution_count": 8,
   "metadata": {},
   "outputs": [
    {
     "name": "stdout",
     "output_type": "stream",
     "text": [
      "Please enter an integer: 3\n",
      "Finally, I executed\n",
      "3\n"
     ]
    }
   ],
   "source": [
    "askint()"
   ]
  },
  {
   "cell_type": "code",
   "execution_count": 9,
   "metadata": {},
   "outputs": [
    {
     "name": "stdout",
     "output_type": "stream",
     "text": [
      "Enter first No: 3\n",
      "Enter Second No: 5\n",
      "Div is 0.6\n",
      "Sum is  8\n"
     ]
    }
   ],
   "source": [
    "# Exception\n",
    "a = int(input('Enter first No: '))\n",
    "b = int(input('Enter Second No: '))\n",
    "try:\n",
    "    c = a/b\n",
    "    print('Div is',c)\n",
    "except ZeroDivisionError as e:\n",
    "    printt(e)\n",
    "d = a+b\n",
    "print(\"Sum is \",d)"
   ]
  },
  {
   "cell_type": "code",
   "execution_count": 20,
   "metadata": {},
   "outputs": [
    {
     "name": "stdout",
     "output_type": "stream",
     "text": [
      "Please input your first number: 7\n",
      "Please input your second number: 9\n",
      "Division is  0.7777777777777778\n"
     ]
    }
   ],
   "source": [
    "while True:\n",
    "    a = int(input(\"Please input your first number: \"))\n",
    "    b = int(input(\"Please input your second number: \"))\n",
    "    try:\n",
    "        div = a/b\n",
    "        print('Division is ',div)\n",
    "        break\n",
    "    except ValueError:\n",
    "        print(\"Please input integers only! Try again\")\n",
    "    except ZeroDivisionError:\n",
    "        print(\"Please input non-zero denominator\")\n"
   ]
  },
  {
   "cell_type": "code",
   "execution_count": null,
   "metadata": {},
   "outputs": [],
   "source": []
  }
 ],
 "metadata": {
  "kernelspec": {
   "display_name": "Python 3",
   "language": "python",
   "name": "python3"
  },
  "language_info": {
   "codemirror_mode": {
    "name": "ipython",
    "version": 3
   },
   "file_extension": ".py",
   "mimetype": "text/x-python",
   "name": "python",
   "nbconvert_exporter": "python",
   "pygments_lexer": "ipython3",
   "version": "3.8.3"
  }
 },
 "nbformat": 4,
 "nbformat_minor": 4
}
