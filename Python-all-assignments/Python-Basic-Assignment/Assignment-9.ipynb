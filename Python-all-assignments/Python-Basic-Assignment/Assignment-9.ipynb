{
 "cells": [
  {
   "cell_type": "markdown",
   "metadata": {},
   "source": [
    "## Assignment-9"
   ]
  },
  {
   "cell_type": "markdown",
   "metadata": {},
   "source": [
    "### 1. To what does a relative path refer?\n",
    "It refers to current working directory or file"
   ]
  },
  {
   "cell_type": "code",
   "execution_count": 6,
   "metadata": {},
   "outputs": [
    {
     "data": {
      "text/plain": [
       "'Assignment-9.ipynb'"
      ]
     },
     "execution_count": 6,
     "metadata": {},
     "output_type": "execute_result"
    }
   ],
   "source": [
    "import os\n",
    "path = r\"C:\\Users\\prvzs\\OneDrive\\Desktop\\Full-Stack-Data-Science-Bootcamp\\Python-all-assignments\\Assignment-9.ipynb\"\n",
    "os.path.relpath(path)"
   ]
  },
  {
   "cell_type": "markdown",
   "metadata": {},
   "source": [
    "### 2. What does an absolute path start with your operating system?\n",
    "* It starts with the current drive(c-drive)"
   ]
  },
  {
   "cell_type": "code",
   "execution_count": 8,
   "metadata": {},
   "outputs": [
    {
     "data": {
      "text/plain": [
       "'C:\\\\Users\\\\prvzs\\\\OneDrive\\\\Desktop\\\\Full-Stack-Data-Science-Bootcamp\\\\Python-all-assignments\\\\Assignment-9.ipynb'"
      ]
     },
     "execution_count": 8,
     "metadata": {},
     "output_type": "execute_result"
    }
   ],
   "source": [
    "os.path.abspath(path)"
   ]
  },
  {
   "cell_type": "markdown",
   "metadata": {},
   "source": [
    "### 3. What do the functions os.getcwd() and os.chdir() do?\n",
    "* `os.getcwd()` returns the path to our current working directory\n",
    "* `os.chdir()` returns or ask the path to change the working directory"
   ]
  },
  {
   "cell_type": "markdown",
   "metadata": {},
   "source": [
    "### 4. What are the . and .. folders?\n",
    "(.) = this directory\n",
    "(..)= parent directory"
   ]
  },
  {
   "cell_type": "markdown",
   "metadata": {},
   "source": [
    "### 5. In C:\\bacon\\eggs\\spam.txt, which part is the dir name, and which part is the base name?\n",
    "* `C:\\bacon\\eggs\\` is the dirname\n",
    "* `spam.txt` is base name"
   ]
  },
  {
   "cell_type": "markdown",
   "metadata": {},
   "source": [
    "### 6. What are the three “mode” arguments that can be passed to the open() function?\n",
    "The three mode arguments that can be passed to the `open()` function are\n",
    "* `r` -> For reading\n",
    "* `w` -> For writing\n",
    "* `a` -> Opens a file for appending, creates the file if it does not exist"
   ]
  },
  {
   "cell_type": "markdown",
   "metadata": {},
   "source": [
    "### 7. What happens if an existing file is opened in write mode?\n",
    "When an existing file is opened in write mode previous content is erased and file is treated as \n",
    "new empty file."
   ]
  },
  {
   "cell_type": "markdown",
   "metadata": {},
   "source": [
    "### 8. How do you tell the difference between read() and readlines()?\n",
    "* `read()` it will iterates over each character\n",
    "* `readlines()` it will read single line "
   ]
  },
  {
   "cell_type": "code",
   "execution_count": 23,
   "metadata": {},
   "outputs": [],
   "source": [
    "with open('sample.txt','r',encoding='UTF-8') as file:\n",
    "    r = file.read()"
   ]
  },
  {
   "cell_type": "code",
   "execution_count": 24,
   "metadata": {},
   "outputs": [
    {
     "data": {
      "text/plain": [
       "'How do deep learning models predict old and new drugs that are successfully treated in healthcare?\\nUnderstanding exactly how data is ingested, analyzed, and returned to the end-user can have a big impact on expectations for accuracy and reliability, not to mention influencing any investments necessary to whip an organization’s data assets into shape. To efficiently and effectively choose between vendor products or hire the right data science staff to develop algorithms in-house, healthcare organizations should feel confident that they have a firm grasp on the different flavors of artificial intelligence and how they can apply to specific use cases. Deep learning is a good place to start.  This branch of artificial intelligence has very quickly become transformative for healthcare, offering the ability to analyze data with a speed and precision never seen before. Deep learning, also known as hierarchical learning or deep structured learning, is a type of machine learning that uses a layered algorithmic architecture to analyze data. In deep learning models, data is filtered through a cascade of multiple layers, with each successive layer using the output from the previous one to inform its results. Deep learning models can become more and more accurate as they process more data, essentially learning from previous results to refine their ability to make correlations and connections. Deep learning is loosely based on the way biological neurons connect to process information in the brains of animals.  Similar to the way electrical signals travel across the cells of living creates, each subsequent layer of nodes is activated when it receives stimuli from its neighboring neurons. In artificial neural networks (ANNs), the basis for deep learning models, each layer may be assigned a specific portion of a transformation task, and data might traverse the layers multiple times to refine and optimize the ultimate output.  These “hidden” layers serve to perform the mathematical translation tasks that turn raw input into meaningful output. With the crypto anchors and blockchain employed with the medicine for example each pill of medication will be printed with scannable details which contains the time of production, originality, etc, which can be printed in medicine using edible substances. Once the medicine is shipped all over the world we can scan the medicine with a scanner and find out whether the medicine is original or counterfeit with the blockchain details stored at the time of manufacturing. By using deep learning in medicines these neural networks will make sense of all the unrelated data and make them into understandable and scalable data so that can be used for making the medicine efficiency better by analyzing molecules of each component used in the medicine.\\nBlackcoffer Insights 32: Suriya E, Vellore Institute of Technology'"
      ]
     },
     "execution_count": 24,
     "metadata": {},
     "output_type": "execute_result"
    }
   ],
   "source": [
    "r"
   ]
  },
  {
   "cell_type": "code",
   "execution_count": 25,
   "metadata": {},
   "outputs": [],
   "source": [
    "with open('sample.txt','r',encoding='UTF-8') as file:\n",
    "    lines = file.readlines()\n",
    "    "
   ]
  },
  {
   "cell_type": "code",
   "execution_count": 26,
   "metadata": {},
   "outputs": [
    {
     "data": {
      "text/plain": [
       "['How do deep learning models predict old and new drugs that are successfully treated in healthcare?\\n',\n",
       " 'Understanding exactly how data is ingested, analyzed, and returned to the end-user can have a big impact on expectations for accuracy and reliability, not to mention influencing any investments necessary to whip an organization’s data assets into shape. To efficiently and effectively choose between vendor products or hire the right data science staff to develop algorithms in-house, healthcare organizations should feel confident that they have a firm grasp on the different flavors of artificial intelligence and how they can apply to specific use cases. Deep learning is a good place to start.  This branch of artificial intelligence has very quickly become transformative for healthcare, offering the ability to analyze data with a speed and precision never seen before. Deep learning, also known as hierarchical learning or deep structured learning, is a type of machine learning that uses a layered algorithmic architecture to analyze data. In deep learning models, data is filtered through a cascade of multiple layers, with each successive layer using the output from the previous one to inform its results. Deep learning models can become more and more accurate as they process more data, essentially learning from previous results to refine their ability to make correlations and connections. Deep learning is loosely based on the way biological neurons connect to process information in the brains of animals.  Similar to the way electrical signals travel across the cells of living creates, each subsequent layer of nodes is activated when it receives stimuli from its neighboring neurons. In artificial neural networks (ANNs), the basis for deep learning models, each layer may be assigned a specific portion of a transformation task, and data might traverse the layers multiple times to refine and optimize the ultimate output.  These “hidden” layers serve to perform the mathematical translation tasks that turn raw input into meaningful output. With the crypto anchors and blockchain employed with the medicine for example each pill of medication will be printed with scannable details which contains the time of production, originality, etc, which can be printed in medicine using edible substances. Once the medicine is shipped all over the world we can scan the medicine with a scanner and find out whether the medicine is original or counterfeit with the blockchain details stored at the time of manufacturing. By using deep learning in medicines these neural networks will make sense of all the unrelated data and make them into understandable and scalable data so that can be used for making the medicine efficiency better by analyzing molecules of each component used in the medicine.\\n',\n",
       " 'Blackcoffer Insights 32: Suriya E, Vellore Institute of Technology']"
      ]
     },
     "execution_count": 26,
     "metadata": {},
     "output_type": "execute_result"
    }
   ],
   "source": [
    "lines"
   ]
  },
  {
   "cell_type": "markdown",
   "metadata": {},
   "source": [
    "### 9. What data structure does a shelf value resemble?\n",
    "As it contains key and values it represents dictionary"
   ]
  },
  {
   "cell_type": "code",
   "execution_count": null,
   "metadata": {},
   "outputs": [],
   "source": []
  }
 ],
 "metadata": {
  "kernelspec": {
   "display_name": "Python 3",
   "language": "python",
   "name": "python3"
  },
  "language_info": {
   "codemirror_mode": {
    "name": "ipython",
    "version": 3
   },
   "file_extension": ".py",
   "mimetype": "text/x-python",
   "name": "python",
   "nbconvert_exporter": "python",
   "pygments_lexer": "ipython3",
   "version": "3.8.3"
  }
 },
 "nbformat": 4,
 "nbformat_minor": 4
}
