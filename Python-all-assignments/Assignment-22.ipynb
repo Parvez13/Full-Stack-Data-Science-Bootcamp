{
 "cells": [
  {
   "cell_type": "markdown",
   "id": "eccaea71",
   "metadata": {},
   "source": [
    "## Assignment-22"
   ]
  },
  {
   "cell_type": "markdown",
   "id": "1615a8f1",
   "metadata": {},
   "source": [
    "### 1. What is the result of the code, and explain?\n",
    "\n",
    "### &gt;&gt;&gt; X = &#39;iNeuron&#39;\n",
    "### &gt;&gt;&gt; def func():\n",
    "### print(X)\n",
    "\n",
    "### &gt;&gt;&gt; func()"
   ]
  },
  {
   "cell_type": "code",
   "execution_count": 5,
   "id": "8100a536",
   "metadata": {},
   "outputs": [
    {
     "name": "stdout",
     "output_type": "stream",
     "text": [
      "iNeuron\n"
     ]
    }
   ],
   "source": [
    "X = 'iNeuron'\n",
    "\n",
    "def func():\n",
    "    print(X)\n",
    "    \n",
    "func()"
   ]
  },
  {
   "cell_type": "markdown",
   "id": "55d36f02",
   "metadata": {},
   "source": [
    "The output of the function is 'iNeuron' as we are printing the variable 'X' inside the function which stores the value 'iNeuron'."
   ]
  },
  {
   "cell_type": "markdown",
   "id": "f677dac8",
   "metadata": {},
   "source": [
    "### 2. What is the result of the code, and explain?\n",
    "\n",
    "### &gt;&gt;&gt; X = &#39;iNeuron&#39;\n",
    "### &gt;&gt;&gt; def func():\n",
    "### X = &#39;NI!&#39;\n",
    "\n",
    "### &gt;&gt;&gt; func()\n",
    "### &gt;&gt;&gt; print(X)"
   ]
  },
  {
   "cell_type": "code",
   "execution_count": 6,
   "id": "4849a240",
   "metadata": {},
   "outputs": [],
   "source": [
    "X = 'iNeuron'\n",
    "\n",
    "def func():\n",
    "    X = 'NI!'\n",
    "    \n",
    "func()"
   ]
  },
  {
   "cell_type": "code",
   "execution_count": 7,
   "id": "c375a709",
   "metadata": {},
   "outputs": [
    {
     "name": "stdout",
     "output_type": "stream",
     "text": [
      "iNeuron\n"
     ]
    }
   ],
   "source": [
    "print(X)"
   ]
  },
  {
   "cell_type": "markdown",
   "id": "4fb17121",
   "metadata": {},
   "source": [
    "The function only storing the value 'NI!' to 'X' variable. Where it is not printing or return the variable.\n",
    "But, below we are printing the first variable 'X' which has the value 'iNeuron'"
   ]
  },
  {
   "cell_type": "markdown",
   "id": "09ed7c2e",
   "metadata": {},
   "source": [
    "### 3. What does this code print, and why?\n",
    "\n",
    "### &gt;&gt;&gt; X = &#39;iNeuron&#39;\n",
    "### &gt;&gt;&gt; def func():\n",
    "### X = &#39;NI&#39;\n",
    "### print(X)\n",
    "\n",
    "### &gt;&gt;&gt; func()\n",
    "### &gt;&gt;&gt; print(X)"
   ]
  },
  {
   "cell_type": "code",
   "execution_count": 9,
   "id": "71df94ca",
   "metadata": {},
   "outputs": [
    {
     "name": "stdout",
     "output_type": "stream",
     "text": [
      "NI!\n"
     ]
    }
   ],
   "source": [
    "X = 'iNeuron'\n",
    "\n",
    "def func():\n",
    "    X = 'NI!'\n",
    "    print(X)\n",
    "    \n",
    "func()"
   ]
  },
  {
   "cell_type": "code",
   "execution_count": 10,
   "id": "6e744adf",
   "metadata": {},
   "outputs": [
    {
     "name": "stdout",
     "output_type": "stream",
     "text": [
      "iNeuron\n"
     ]
    }
   ],
   "source": [
    "print(X)"
   ]
  },
  {
   "cell_type": "markdown",
   "id": "7c8689cc",
   "metadata": {},
   "source": [
    "* First we are assinging 'iNeuron' to 'X'(global variable), then we are creating a function `func()`. Inside a the function we are assinging 'X' to 'NI!' and printing the 'X'.\n",
    "* When we call the function then automatically the 'X' which is inside the function storing 'NI!' that will be printed.\n",
    "* Next we are printing 'X' which has 'iNeuron' will return as it is outside the function."
   ]
  },
  {
   "cell_type": "markdown",
   "id": "99cab89e",
   "metadata": {},
   "source": [
    "### 4. What output does this code produce? Why?\n",
    "\n",
    "### &gt;&gt;&gt; X = &#39;iNeuron&#39;\n",
    "### &gt;&gt;&gt; def func():\n",
    "### global X\n",
    "### X = &#39;NI&#39;\n",
    "\n",
    "### &gt;&gt;&gt; func()\n",
    "### &gt;&gt;&gt; print(X)"
   ]
  },
  {
   "cell_type": "code",
   "execution_count": 28,
   "id": "18d818f8",
   "metadata": {},
   "outputs": [
    {
     "name": "stdout",
     "output_type": "stream",
     "text": [
      "NI\n"
     ]
    }
   ],
   "source": [
    "X = 'iNeuron'\n",
    "\n",
    "def func():\n",
    "    global X\n",
    "    X = 'NI'\n",
    "    \n",
    "func()\n",
    "print(X)"
   ]
  },
  {
   "cell_type": "markdown",
   "id": "b6cf0588",
   "metadata": {},
   "source": [
    "* First variable 'X' having 'iNeuron' is a global variable.\n",
    "* When we are creating a function `func()`, inside it we are assinging a value 'NI' to 'X' variable. Which is already a `global` variable.\n",
    "* Because we assigning a keyword 'global' to the variable inside the function, which will becomes the variable outside the function containing 'iNeuron'.\n",
    "* Then, if we print 'X', to outputs 'NI' because we are updating the variable inside the function."
   ]
  },
  {
   "cell_type": "markdown",
   "id": "0e9d01c5",
   "metadata": {},
   "source": [
    "### 5. What about this code—what’s the output, and why?\n",
    "\n",
    "### &gt;&gt;&gt; X = &#39;iNeuron&#39;\n",
    "### &gt;&gt;&gt; def func():\n",
    "### X = &#39;NI&#39;\n",
    "### def nested():\n",
    "### print(X)\n",
    "### nested()\n",
    "\n",
    "### &gt;&gt;&gt; func()\n",
    "### &gt;&gt;&gt; X"
   ]
  },
  {
   "cell_type": "code",
   "execution_count": 29,
   "id": "2bf83668",
   "metadata": {},
   "outputs": [
    {
     "name": "stdout",
     "output_type": "stream",
     "text": [
      "NI\n"
     ]
    },
    {
     "data": {
      "text/plain": [
       "'iNeuron'"
      ]
     },
     "execution_count": 29,
     "metadata": {},
     "output_type": "execute_result"
    }
   ],
   "source": [
    "X = 'iNeuron'\n",
    "def func():\n",
    "    X = 'NI'\n",
    "    def nested():\n",
    "        print(X)\n",
    "    nested()\n",
    "func()\n",
    "X"
   ]
  },
  {
   "cell_type": "code",
   "execution_count": 24,
   "id": "b459d993",
   "metadata": {},
   "outputs": [],
   "source": [
    "func()"
   ]
  },
  {
   "cell_type": "code",
   "execution_count": 25,
   "id": "cfc564ab",
   "metadata": {},
   "outputs": [
    {
     "data": {
      "text/plain": [
       "'iNeuron'"
      ]
     },
     "execution_count": 25,
     "metadata": {},
     "output_type": "execute_result"
    }
   ],
   "source": [
    "X"
   ]
  },
  {
   "cell_type": "markdown",
   "id": "0aa713d0",
   "metadata": {},
   "source": [
    "* First the variable is assinged 'X' with 'iNeuron'\n",
    "* Then we created two functions `func()` and `nested()`(which is inside the `func()` function). Where the `func()` contains variable 'X' with 'NI' value.\n",
    "* The  function `nested()` is printing the 'X' which is a inside `func()`.\n",
    "* When we call `nested()` function, absolutely it will return the 'X' consists of 'NI'\n",
    "* After when we are calling `func()` it will not gives us the any output because we are not included any `print()` or `return` statement.\n",
    "* Next when we print the 'X' variable then it is printing 'iNeuron' which is assinged at very first. (As it is a global variable also)."
   ]
  },
  {
   "cell_type": "markdown",
   "id": "3d840c42",
   "metadata": {},
   "source": [
    "### 6. How about this code: what is its output in Python 3, and explain?\n",
    "\n",
    "### &gt;&gt;&gt; def func():\n",
    "### X = &#39;NI&#39;\n",
    "### def nested():\n",
    "### nonlocal X\n",
    "### X = &#39;Spam&#39;\n",
    "### nested()\n",
    "### print(X)\n",
    "\n",
    "### &gt;&gt;&gt; func()"
   ]
  },
  {
   "cell_type": "code",
   "execution_count": 30,
   "id": "00e09601",
   "metadata": {},
   "outputs": [
    {
     "name": "stdout",
     "output_type": "stream",
     "text": [
      "Spam\n"
     ]
    }
   ],
   "source": [
    "def func():\n",
    "    X = 'NI'\n",
    "    def nested():\n",
    "        nonlocal X\n",
    "        X = 'Spam'\n",
    "    nested()\n",
    "    print(X)\n",
    "func()"
   ]
  },
  {
   "cell_type": "markdown",
   "id": "c7fa42d4",
   "metadata": {},
   "source": [
    "The output of the code is Spam. nonlocal keyword in python is used to declare a variable as not local.Hence the statement X = \"Spam\" is modified in the global scope. hence the output of print(X) statement is Spam"
   ]
  },
  {
   "cell_type": "code",
   "execution_count": null,
   "id": "8be84fdc",
   "metadata": {},
   "outputs": [],
   "source": []
  }
 ],
 "metadata": {
  "kernelspec": {
   "display_name": "Python 3 (ipykernel)",
   "language": "python",
   "name": "python3"
  },
  "language_info": {
   "codemirror_mode": {
    "name": "ipython",
    "version": 3
   },
   "file_extension": ".py",
   "mimetype": "text/x-python",
   "name": "python",
   "nbconvert_exporter": "python",
   "pygments_lexer": "ipython3",
   "version": "3.9.12"
  }
 },
 "nbformat": 4,
 "nbformat_minor": 5
}
