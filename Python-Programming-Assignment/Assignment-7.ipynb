{
 "cells": [
  {
   "cell_type": "markdown",
   "id": "d0b9deee",
   "metadata": {},
   "source": [
    "## Assignment-7"
   ]
  },
  {
   "cell_type": "markdown",
   "id": "611de45c",
   "metadata": {},
   "source": [
    "### 1. Write a Python Program to find sum of array?"
   ]
  },
  {
   "cell_type": "code",
   "execution_count": 12,
   "id": "1e0bddcf",
   "metadata": {},
   "outputs": [
    {
     "name": "stdout",
     "output_type": "stream",
     "text": [
      "Enter the array: 3,4,5,6\n",
      "The sum of (3, 4, 5, 6) is 18\n"
     ]
    }
   ],
   "source": [
    "def sum_of_array():\n",
    "    in_arr = eval(input(\"Enter the array: \"))\n",
    "    print(f'The sum of {in_arr} is {sum(in_arr)}')\n",
    "    \n",
    "\n",
    "\n",
    "sum_of_array()"
   ]
  },
  {
   "cell_type": "markdown",
   "id": "cedb971f",
   "metadata": {},
   "source": [
    "### 2. Write a Python Program to find largest element in an array?"
   ]
  },
  {
   "cell_type": "code",
   "execution_count": 13,
   "id": "3a1b7374",
   "metadata": {},
   "outputs": [
    {
     "name": "stdout",
     "output_type": "stream",
     "text": [
      "Enter the array: 3, 5, 80,99, 2\n",
      "The largest element in (3, 5, 80, 99, 2) is 99\n"
     ]
    }
   ],
   "source": [
    "def large_array():\n",
    "    array = eval(input(\"Enter the array: \"))\n",
    "    print(f\"The largest element in {array} is {max(array)}\")\n",
    "\n",
    "large_array()"
   ]
  },
  {
   "cell_type": "markdown",
   "id": "ad3cebc6",
   "metadata": {},
   "source": [
    "### 3. Write a Python Program for array rotation?"
   ]
  },
  {
   "cell_type": "code",
   "execution_count": 14,
   "id": "a930abbd",
   "metadata": {},
   "outputs": [
    {
     "name": "stdout",
     "output_type": "stream",
     "text": [
      "Enter the array: 3,5,2,7\n",
      "The reverse of array (3, 5, 2, 7) is (7, 2, 5, 3)\n"
     ]
    }
   ],
   "source": [
    "def reverse_array():\n",
    "    array = eval(input(\"Enter the array: \"))\n",
    "    print(f\"The reverse of array {array} is {array[::-1]}\")\n",
    "\n",
    "reverse_array()"
   ]
  },
  {
   "cell_type": "markdown",
   "id": "594beff7",
   "metadata": {},
   "source": [
    "### 4. Write a Python Program to Split the array and add the first part to the end?"
   ]
  },
  {
   "cell_type": "code",
   "execution_count": 18,
   "id": "e6e77b52",
   "metadata": {},
   "outputs": [
    {
     "name": "stdout",
     "output_type": "stream",
     "text": [
      "Enter the Array: [10,43,50,70]\n",
      "The Sum of First and Last Elements of Array [10, 43, 50, 70] is 80\n"
     ]
    }
   ],
   "source": [
    "def sumOfSplits():\n",
    "    in_arr = eval(input(\"Enter the Array: \"))\n",
    "    print(f\"The Sum of First and Last Elements of Array {in_arr} is {in_arr[0]+in_arr[-1]}\")\n",
    "    \n",
    "sumOfSplits()"
   ]
  },
  {
   "cell_type": "markdown",
   "id": "a213f83e",
   "metadata": {},
   "source": [
    "### 5. Write a Python Program to check if given array is Monotonic?"
   ]
  },
  {
   "cell_type": "code",
   "execution_count": 19,
   "id": "7e13c6b9",
   "metadata": {},
   "outputs": [
    {
     "name": "stdout",
     "output_type": "stream",
     "text": [
      "Enter the Array: 3,4,5\n",
      "Array (3, 4, 5) is Monotonic\n",
      "Enter the Array: 30,52562,3\n",
      "Array (30, 52562, 3) is Not Monotonic\n"
     ]
    }
   ],
   "source": [
    "def checkMonotonic():\n",
    "    in_arr = eval(input(\"Enter the Array: \"))\n",
    "    if(all(in_arr[i]<=in_arr[i+1] for i in range(len(in_arr)-1)) or all(in_arr[i]>=in_arr[i+1] for i in range(len(in_arr)-1))):\n",
    "        print(f'Array {in_arr} is Monotonic')\n",
    "    else:\n",
    "        print(f'Array {in_arr} is Not Monotonic')\n",
    "\n",
    "checkMonotonic()\n",
    "checkMonotonic()"
   ]
  },
  {
   "cell_type": "code",
   "execution_count": null,
   "id": "b5915de8",
   "metadata": {},
   "outputs": [],
   "source": []
  }
 ],
 "metadata": {
  "kernelspec": {
   "display_name": "Python 3 (ipykernel)",
   "language": "python",
   "name": "python3"
  },
  "language_info": {
   "codemirror_mode": {
    "name": "ipython",
    "version": 3
   },
   "file_extension": ".py",
   "mimetype": "text/x-python",
   "name": "python",
   "nbconvert_exporter": "python",
   "pygments_lexer": "ipython3",
   "version": "3.9.12"
  }
 },
 "nbformat": 4,
 "nbformat_minor": 5
}
