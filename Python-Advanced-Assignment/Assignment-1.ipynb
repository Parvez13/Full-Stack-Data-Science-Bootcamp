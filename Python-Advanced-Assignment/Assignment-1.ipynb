{
 "cells": [
  {
   "cell_type": "markdown",
   "id": "24009110",
   "metadata": {},
   "source": [
    "## Assignment-1"
   ]
  },
  {
   "cell_type": "markdown",
   "id": "e65f1e6c",
   "metadata": {},
   "source": [
    "### Q1. What is the purpose of Python&#39;s OOP?"
   ]
  },
  {
   "cell_type": "markdown",
   "id": "9404f7e5",
   "metadata": {},
   "source": [
    "* It helps in not reproduce our code. \n",
    "* We can add function(methods) which are also reused whenever we need. It is simple and easy to implement the code.\n",
    "* They are used in mostly real-world things like Encapsulation, Polymorphisms, Abstraction and Inheritance.\n",
    "\n"
   ]
  },
  {
   "cell_type": "markdown",
   "id": "79df0b09",
   "metadata": {},
   "source": [
    "### Q2. Where does an inheritance search look for an attribute?"
   ]
  },
  {
   "cell_type": "markdown",
   "id": "db57e799",
   "metadata": {},
   "source": [
    "Python searches for an attribute in an upward tree of attributes. it first searches for the attribute in its instance and then looks in the class it is generated from, to all super classes listed in its class header"
   ]
  },
  {
   "cell_type": "markdown",
   "id": "6c3c4a62",
   "metadata": {},
   "source": [
    "### Q3. How do you distinguish between a class object and an instance object?\n",
    "\n",
    "* Objects are like blueprint of the class. Where instance object is takes the attribute or use the methods from functions.\n"
   ]
  },
  {
   "cell_type": "code",
   "execution_count": 1,
   "id": "2a7ec95e",
   "metadata": {},
   "outputs": [],
   "source": [
    "class Animal:\n",
    "    def __init__(self, name, age):\n",
    "        self.name = name\n",
    "        self.age = age\n",
    "    \n",
    "    def __repr__():\n",
    "        return f\"My pet animal name is {self.name} and his age is {self.age}\"\n",
    "    \n",
    "    def running(self):\n",
    "        return f\"Yes it runs\"\n",
    "    "
   ]
  },
  {
   "cell_type": "code",
   "execution_count": 2,
   "id": "ee3a7350",
   "metadata": {},
   "outputs": [
    {
     "data": {
      "text/plain": [
       "'Yes it runs'"
      ]
     },
     "execution_count": 2,
     "metadata": {},
     "output_type": "execute_result"
    }
   ],
   "source": [
    "# Object\n",
    "animal = Animal('Rosy',4)\n",
    "# instance object\n",
    "animal.running()\n"
   ]
  },
  {
   "cell_type": "markdown",
   "id": "57fb87ea",
   "metadata": {},
   "source": [
    "1. Class is a template for creating objects whereas object is an instance of class\n",
    "2. Seperate memory is allocated for each object whenever an object is created. but for a class this doesnot happens.\n",
    "3. A Class is created once. Many objects are created using a class.\n",
    "4. As Classes have no allocated memory. they can't be manipulated. but objects can be manipulated."
   ]
  },
  {
   "cell_type": "markdown",
   "id": "a6fd051f",
   "metadata": {},
   "source": [
    "### 4. Q4. What makes the first argument in a class’s method function special?\n",
    "* `self` keyword is first argument or a default argument in any class's method function.\n",
    "* Which refers to the object itself."
   ]
  },
  {
   "cell_type": "markdown",
   "id": "bd9a998b",
   "metadata": {},
   "source": [
    "### Q5. What is the purpose of the ` __init__ ` method?"
   ]
  },
  {
   "cell_type": "markdown",
   "id": "ff5e9017",
   "metadata": {},
   "source": [
    "* `__init__` works as a constructor in oop(object oriented programming).\n",
    "* It helps in initializing a the attribute of a class."
   ]
  },
  {
   "cell_type": "markdown",
   "id": "6a4d80ee",
   "metadata": {},
   "source": [
    "### Q6. What is the process for creating a class instance?\n",
    "Here below we are creating a class instance which refers to the object."
   ]
  },
  {
   "cell_type": "code",
   "execution_count": 3,
   "id": "25f6041b",
   "metadata": {},
   "outputs": [],
   "source": [
    "animal = Animal('Rosy',4)\n"
   ]
  },
  {
   "cell_type": "markdown",
   "id": "ab878bd0",
   "metadata": {},
   "source": [
    "### Q7. What is the process for creating a class?"
   ]
  },
  {
   "cell_type": "markdown",
   "id": "6b435dd9",
   "metadata": {},
   "source": [
    "`class` keyword is used to created a class in python. The syntax to create a class in python is `class <classname>`"
   ]
  },
  {
   "cell_type": "markdown",
   "id": "52a338e0",
   "metadata": {},
   "source": [
    "### Q8. How would you define the superclasses of a class?"
   ]
  },
  {
   "cell_type": "markdown",
   "id": "7d6f4c01",
   "metadata": {},
   "source": [
    " Superclass/Parent class is given as a arugment to the child class"
   ]
  },
  {
   "cell_type": "code",
   "execution_count": null,
   "id": "bf6dc349",
   "metadata": {},
   "outputs": [],
   "source": []
  }
 ],
 "metadata": {
  "kernelspec": {
   "display_name": "Python 3 (ipykernel)",
   "language": "python",
   "name": "python3"
  },
  "language_info": {
   "codemirror_mode": {
    "name": "ipython",
    "version": 3
   },
   "file_extension": ".py",
   "mimetype": "text/x-python",
   "name": "python",
   "nbconvert_exporter": "python",
   "pygments_lexer": "ipython3",
   "version": "3.9.12"
  }
 },
 "nbformat": 4,
 "nbformat_minor": 5
}
