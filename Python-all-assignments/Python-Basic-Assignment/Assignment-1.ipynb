{
 "cells": [
  {
   "cell_type": "markdown",
   "metadata": {},
   "source": [
    "# Assignment"
   ]
  },
  {
   "cell_type": "markdown",
   "metadata": {},
   "source": [
    "### 1. In the below elements which of them are values or an expression? eg:- values can be integer or string and expressions will be mathematical operators.\n",
    "*, 'hello', -87.8, -,/,+,6"
   ]
  },
  {
   "cell_type": "code",
   "execution_count": null,
   "metadata": {},
   "outputs": [],
   "source": [
    "* -> Expression\n",
    "'hello' -> Value(string)\n",
    "-87.8 -> Value(integer)\n",
    "- -> Expression\n",
    "/ -> Expression\n",
    "+ -> Expression\n",
    "6 -> Value(integer)\n"
   ]
  },
  {
   "cell_type": "markdown",
   "metadata": {},
   "source": [
    "### 2. What is the difference between string and variable?\n",
    "\n",
    "String : A string is one of the datatype, where value is inside double or single quote\n",
    "\n",
    "* eg: 'Sohail' or \"Sohail\"\n",
    "\n",
    "Variable : A variable is used to assign some values to it.\n",
    "* eg: name = \"Sohail\"\n",
    "    age = 20"
   ]
  },
  {
   "cell_type": "markdown",
   "metadata": {},
   "source": [
    "### 3. Describe three different data types."
   ]
  },
  {
   "cell_type": "code",
   "execution_count": 12,
   "metadata": {},
   "outputs": [
    {
     "name": "stdout",
     "output_type": "stream",
     "text": [
      "1. Numeric Datatype\n",
      "Data type of a : <class 'int'>\n",
      "Data type of b: <class 'float'>\n",
      "Data type of c: <class 'complex'>\n",
      "2. Sequence Datatype\n",
      "Data type of my_name: <class 'str'>\n",
      "Data type of my_marks: <class 'list'>\n",
      "Data type of numbers: <class 'tuple'>\n",
      "3.Boolean Datatype\n",
      "Data type of r: <class 'bool'>\n"
     ]
    }
   ],
   "source": [
    "# Three different datatypes\n",
    "# 1. Numeric\n",
    "print(\"1. Numeric Datatype\")\n",
    "# 1.1 Integer \n",
    "a = 5\n",
    "print(f\"Data type of a : {type(a)}\")\n",
    "# 1.2 Float\n",
    "b= 5.8\n",
    "print(f\"Data type of b: {type(b)}\")\n",
    "# 1.3 Complex Number\n",
    "c= 5+3j\n",
    "print(f\"Data type of c: {type(c)}\")\n",
    "\n",
    "# 2. Sequence datatype\n",
    "print(\"2. Sequence Datatype\")\n",
    "# 2.1 String\n",
    "my_name = \"Sohail Parvez\"\n",
    "print(f\"Data type of my_name: {type(my_name)}\" )\n",
    "# 2.2 list\n",
    "my_marks = [14,25,623]\n",
    "print(f\"Data type of my_marks: {type(my_marks)}\")\n",
    "# 2.3 tuple\n",
    "numbers = (30,24,66)\n",
    "print(f\"Data type of numbers: {type(numbers)}\")\n",
    "\n",
    "# 3. Boolean Datatype\n",
    "print(\"3.Boolean Datatype\")\n",
    "a = 100\n",
    "b = 100\n",
    "r = a==b\n",
    "print(f\"Data type of r: {type(r)}\")\n"
   ]
  },
  {
   "cell_type": "markdown",
   "metadata": {},
   "source": [
    "### 4. What is an expression made up of? What do all expressions do?"
   ]
  },
  {
   "cell_type": "code",
   "execution_count": 16,
   "metadata": {},
   "outputs": [
    {
     "name": "stdout",
     "output_type": "stream",
     "text": [
      "7\n"
     ]
    }
   ],
   "source": [
    "#An expression is made up of combination of all different mathematical operations\n",
    "math = 5+2\n",
    "print(math)\n"
   ]
  },
  {
   "cell_type": "markdown",
   "metadata": {},
   "source": [
    "### 5. This assignment statements, like spam = 10. What is the difference between an expression and a statement?"
   ]
  },
  {
   "cell_type": "markdown",
   "metadata": {},
   "source": [
    "* The spam = 10 means we are storing or assigning 10 to 'spam' variable.\n",
    "An expression is made up of combination of all different mathematical operations \n",
    "\n",
    "a = 5 - 4\n",
    "b = 10/3\n",
    "\n",
    "Statement is a code which we are writting in python\n",
    "\n",
    "a = 10 # statement 1\n",
    "\n",
    "name = 'sohail' # statement 2\n",
    "\n"
   ]
  },
  {
   "cell_type": "markdown",
   "metadata": {},
   "source": [
    "### 6. After running the following code, what does the variable bacon contain?\n",
    "bacon = 22\n",
    "bacon + 1"
   ]
  },
  {
   "cell_type": "code",
   "execution_count": 18,
   "metadata": {},
   "outputs": [
    {
     "name": "stdout",
     "output_type": "stream",
     "text": [
      "22\n",
      "23\n"
     ]
    }
   ],
   "source": [
    "bacon = 22\n",
    "print(bacon)\n",
    "bacon2 = bacon + 1\n",
    "print(bacon2)"
   ]
  },
  {
   "cell_type": "markdown",
   "metadata": {},
   "source": [
    "## 7. What should the values of the following two terms be?\n",
    "&#39;spam&#39; + &#39;spamspam&#39;\n",
    "&#39;\n",
    "\n",
    "spam&#39; * 3"
   ]
  },
  {
   "cell_type": "code",
   "execution_count": 21,
   "metadata": {},
   "outputs": [
    {
     "name": "stdout",
     "output_type": "stream",
     "text": [
      "spamspamspam\n",
      "spamspamspam\n"
     ]
    }
   ],
   "source": [
    "variable_1 = 'spam' + 'spamspam'\n",
    "print(variable)\n",
    "variable_2 = 'spam'*3\n",
    "print(variable_2)"
   ]
  },
  {
   "cell_type": "markdown",
   "metadata": {},
   "source": [
    "### 8. Why is eggs a valid variable name while 100 is invalid?\n",
    "It gives us wrong syntax error. Because we have to use any name as variable name not numeric"
   ]
  },
  {
   "cell_type": "code",
   "execution_count": 24,
   "metadata": {},
   "outputs": [
    {
     "data": {
      "text/plain": [
       "'my'"
      ]
     },
     "execution_count": 24,
     "metadata": {},
     "output_type": "execute_result"
    }
   ],
   "source": [
    "eggs = 'my'\n",
    "eggs"
   ]
  },
  {
   "cell_type": "code",
   "execution_count": 25,
   "metadata": {},
   "outputs": [
    {
     "ename": "SyntaxError",
     "evalue": "cannot assign to literal (<ipython-input-25-6582270ea823>, line 1)",
     "output_type": "error",
     "traceback": [
      "\u001b[1;36m  File \u001b[1;32m\"<ipython-input-25-6582270ea823>\"\u001b[1;36m, line \u001b[1;32m1\u001b[0m\n\u001b[1;33m    100 = 'my'\u001b[0m\n\u001b[1;37m    ^\u001b[0m\n\u001b[1;31mSyntaxError\u001b[0m\u001b[1;31m:\u001b[0m cannot assign to literal\n"
     ]
    }
   ],
   "source": [
    "100 = 'my'\n",
    "print(100)"
   ]
  },
  {
   "cell_type": "markdown",
   "metadata": {},
   "source": [
    "### 9. What three functions can be used to get the integer, floating-point number, or string version of a value?"
   ]
  },
  {
   "cell_type": "code",
   "execution_count": 34,
   "metadata": {},
   "outputs": [
    {
     "name": "stdout",
     "output_type": "stream",
     "text": [
      "any_number datatype : <class 'int'>\n",
      "any_string datatype : <class 'str'>\n",
      "any_float datatype : <class 'float'>\n",
      "\n",
      "Convert 'int' to 'str'\n",
      "any_number datatype : <class 'str'>\n",
      "\n",
      "Convert 'float' to 'int'\n",
      "any_float datatype : <class 'int'>\n",
      "\n",
      "Convert 'int' to 'float'\n",
      "any_number datatype : <class 'float'>\n"
     ]
    }
   ],
   "source": [
    "any_number = 10\n",
    "print(f\"any_number datatype : {type(any_number)}\")\n",
    "any_string = 'my_name'\n",
    "print(f\"any_string datatype : {type(any_string)}\")\n",
    "any_float = 10.5\n",
    "print(f\"any_float datatype : {type(any_float)}\")\n",
    "print()\n",
    "print(\"Convert 'int' to 'str'\")\n",
    "# Convert 'int' to 'str'\n",
    "any_number = '10'\n",
    "print(f\"any_number datatype : {type(any_number)}\")\n",
    "print()\n",
    "print(\"Convert 'float' to 'int'\")\n",
    "any_float = int(any_float)\n",
    "print(f\"any_float datatype : {type(any_float)}\")\n",
    "print()\n",
    "print(\"Convert 'int' to 'float'\")\n",
    "any_number = float(any_number)\n",
    "print(f\"any_number datatype : {type(any_number)}\")"
   ]
  },
  {
   "cell_type": "markdown",
   "metadata": {},
   "source": [
    "### 10. Why does this expression cause an error? How can you fix it?\n",
    "\n",
    "&#39;I have eaten &#39; + 99 + &#39; burritos.&#39;\n",
    "\n",
    "It gives us error because we are concatenating string to int datatype.\n",
    "\n",
    "To fix this issue, we have to convert int into string"
   ]
  },
  {
   "cell_type": "code",
   "execution_count": 35,
   "metadata": {},
   "outputs": [
    {
     "ename": "TypeError",
     "evalue": "can only concatenate str (not \"int\") to str",
     "output_type": "error",
     "traceback": [
      "\u001b[1;31m---------------------------------------------------------------------------\u001b[0m",
      "\u001b[1;31mTypeError\u001b[0m                                 Traceback (most recent call last)",
      "\u001b[1;32m<ipython-input-35-0ce0f2220582>\u001b[0m in \u001b[0;36m<module>\u001b[1;34m\u001b[0m\n\u001b[1;32m----> 1\u001b[1;33m \u001b[0mprint\u001b[0m\u001b[1;33m(\u001b[0m\u001b[1;34m'I have eaten'\u001b[0m\u001b[1;33m+\u001b[0m\u001b[1;36m99\u001b[0m\u001b[1;33m+\u001b[0m\u001b[1;34m'burritos'\u001b[0m\u001b[1;33m)\u001b[0m\u001b[1;33m\u001b[0m\u001b[1;33m\u001b[0m\u001b[0m\n\u001b[0m",
      "\u001b[1;31mTypeError\u001b[0m: can only concatenate str (not \"int\") to str"
     ]
    }
   ],
   "source": [
    "print('I have eaten'+99+'burritos')"
   ]
  },
  {
   "cell_type": "code",
   "execution_count": 38,
   "metadata": {},
   "outputs": [
    {
     "name": "stdout",
     "output_type": "stream",
     "text": [
      "I have eaten 99 burritos\n"
     ]
    }
   ],
   "source": [
    "correct_way = \"I have eaten \" + '99' +' burritos'\n",
    "print(correct_way)"
   ]
  },
  {
   "cell_type": "code",
   "execution_count": null,
   "metadata": {},
   "outputs": [],
   "source": []
  }
 ],
 "metadata": {
  "kernelspec": {
   "display_name": "Python 3",
   "language": "python",
   "name": "python3"
  },
  "language_info": {
   "codemirror_mode": {
    "name": "ipython",
    "version": 3
   },
   "file_extension": ".py",
   "mimetype": "text/x-python",
   "name": "python",
   "nbconvert_exporter": "python",
   "pygments_lexer": "ipython3",
   "version": "3.8.3"
  }
 },
 "nbformat": 4,
 "nbformat_minor": 4
}
