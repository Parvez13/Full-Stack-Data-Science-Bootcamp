{
 "cells": [
  {
   "cell_type": "markdown",
   "id": "cd9b94eb",
   "metadata": {},
   "source": [
    "## Assignment-21"
   ]
  },
  {
   "cell_type": "markdown",
   "id": "026bf064",
   "metadata": {},
   "source": [
    "### 1. Add the current date to the text file today.txt as a string."
   ]
  },
  {
   "cell_type": "code",
   "execution_count": 9,
   "id": "54cbefd8",
   "metadata": {},
   "outputs": [],
   "source": [
    "current_date = '26-06-2022'\n",
    "\n",
    "with open('today.txt','w') as file:\n",
    "    write = file.write(current_date)"
   ]
  },
  {
   "cell_type": "markdown",
   "id": "fe577fd8",
   "metadata": {},
   "source": [
    "### 2. Read the text file today.txt into the string today_string"
   ]
  },
  {
   "cell_type": "code",
   "execution_count": 12,
   "id": "cfd50eee",
   "metadata": {},
   "outputs": [],
   "source": [
    "with open('today.txt','r') as f:\n",
    "    today_string= f.read()"
   ]
  },
  {
   "cell_type": "code",
   "execution_count": 13,
   "id": "0756560b",
   "metadata": {},
   "outputs": [
    {
     "data": {
      "text/plain": [
       "'26-06-2022'"
      ]
     },
     "execution_count": 13,
     "metadata": {},
     "output_type": "execute_result"
    }
   ],
   "source": [
    "today_string"
   ]
  },
  {
   "cell_type": "markdown",
   "id": "683533b6",
   "metadata": {},
   "source": [
    "### 3. Parse the date from today_string."
   ]
  },
  {
   "cell_type": "code",
   "execution_count": 15,
   "id": "d16673ae",
   "metadata": {},
   "outputs": [
    {
     "name": "stdout",
     "output_type": "stream",
     "text": [
      "2022-06-22 10:37:30\n"
     ]
    }
   ],
   "source": [
    "from dateutil.parser import parse\n",
    "\n",
    "datetime = parse('2022-06-22 10:37:30')\n",
    "\n",
    "print(datetime)"
   ]
  },
  {
   "cell_type": "code",
   "execution_count": 16,
   "id": "0d00375e",
   "metadata": {},
   "outputs": [
    {
     "name": "stdout",
     "output_type": "stream",
     "text": [
      "Current date/time: 2022-06-26 10:38:04.417957\n"
     ]
    }
   ],
   "source": [
    "import datetime\n",
    "\n",
    "print ('Current date/time: {}'.format(datetime.datetime.now()))"
   ]
  },
  {
   "cell_type": "markdown",
   "id": "f2c43046",
   "metadata": {},
   "source": [
    "### 4. List the files in your current directory"
   ]
  },
  {
   "cell_type": "code",
   "execution_count": 17,
   "id": "34c2f25b",
   "metadata": {},
   "outputs": [],
   "source": [
    "import os\n",
    "\n",
    "list_files = []\n",
    "\n",
    "files = os.listdir('.')\n",
    "list_files.append(files)"
   ]
  },
  {
   "cell_type": "code",
   "execution_count": 18,
   "id": "10f010cd",
   "metadata": {},
   "outputs": [
    {
     "data": {
      "text/plain": [
       "[['.ipynb_checkpoints',\n",
       "  'Assignment-1.ipynb',\n",
       "  'Assignment-10.ipynb',\n",
       "  'Assignment-11.ipynb',\n",
       "  'Assignment-12.ipynb',\n",
       "  'Assignment-13.ipynb',\n",
       "  'Assignment-14.ipynb',\n",
       "  'Assignment-15.ipynb',\n",
       "  'Assignment-16.ipynb',\n",
       "  'Assignment-17.ipynb',\n",
       "  'Assignment-18.ipynb',\n",
       "  'Assignment-19.ipynb',\n",
       "  'Assignment-2.ipynb',\n",
       "  'Assignment-20.ipynb',\n",
       "  'Assignment-21.ipynb',\n",
       "  'Assignment-3.ipynb',\n",
       "  'Assignment-4.ipynb',\n",
       "  'Assignment-5.ipynb',\n",
       "  'Assignment-6.ipynb',\n",
       "  'Assignment-7.ipynb',\n",
       "  'Assignment-8.ipynb',\n",
       "  'Assignment-9.ipynb',\n",
       "  'books.csv',\n",
       "  'books.db',\n",
       "  'test.txt',\n",
       "  'today.txt',\n",
       "  'zoo.py',\n",
       "  '__pycache__']]"
      ]
     },
     "execution_count": 18,
     "metadata": {},
     "output_type": "execute_result"
    }
   ],
   "source": [
    "list_files"
   ]
  },
  {
   "cell_type": "markdown",
   "id": "e2de4b30",
   "metadata": {},
   "source": [
    "### 5. Create a list of all of the files in your parent directory (minimum five files should be available)."
   ]
  },
  {
   "cell_type": "code",
   "execution_count": 23,
   "id": "441e975e",
   "metadata": {},
   "outputs": [],
   "source": [
    "parent_files = []\n",
    "\n",
    "files = os.listdir(r'C:\\Users\\prvzs\\OneDrive\\Desktop\\Full-Stack-Data-Science-Bootcamp')\n",
    "parent_files.append(files)"
   ]
  },
  {
   "cell_type": "code",
   "execution_count": 24,
   "id": "77531441",
   "metadata": {},
   "outputs": [
    {
     "data": {
      "text/plain": [
       "[['.git',\n",
       "  '.ipynb_checkpoints',\n",
       "  'LIVE_CLASS_CODING',\n",
       "  'Python-all-assignments',\n",
       "  'README.md']]"
      ]
     },
     "execution_count": 24,
     "metadata": {},
     "output_type": "execute_result"
    }
   ],
   "source": [
    "parent_files"
   ]
  },
  {
   "cell_type": "markdown",
   "id": "f4b19803",
   "metadata": {},
   "source": [
    "### 6. Use multiprocessing to create three separate processes. Make each one wait a random number of seconds between one and five, print the current time, and then exit."
   ]
  },
  {
   "cell_type": "code",
   "execution_count": 25,
   "id": "1db16655",
   "metadata": {},
   "outputs": [],
   "source": [
    "import multiprocessing\n",
    "import time \n",
    "import random\n",
    "import datetime\n",
    "\n",
    "def procOne():\n",
    "    print(f'Proc_one_Starttime -> {datetime.datetime.now()}')\n",
    "    time.sleep(random.randint(1,5))\n",
    "    print(f'Proc_one_Endtime -> {datetime.datetime.now()}')\n",
    "    \n",
    "def procTwo():\n",
    "    print(f'Proc_two_Starttime -> {datetime.datetime.now()}')\n",
    "    time.sleep(random.randint(1,5))\n",
    "    print(f'Proc_two_Endtime -> {datetime.datetime.now()}')\n",
    "\n",
    "def procThree():\n",
    "    print(f'Proc_two_Starttime -> {datetime.datetime.now()}')\n",
    "    time.sleep(random.randint(1,5))\n",
    "    print(f'Proc_two_Endtime -> {datetime.datetime.now()}')\n",
    "    \n",
    "if __name__ == \"__main__\":    \n",
    "    p1 = multiprocessing.Process(target=procOne)\n",
    "    p2 = multiprocessing.Process(target=procTwo)\n",
    "    p3 = multiprocessing.Process(target=procThree)\n",
    "\n",
    "    p1.start()\n",
    "    p2.start()\n",
    "    p3.start()\n",
    "\n",
    "    p1.join()\n",
    "    p2.join()\n",
    "    p3.join()"
   ]
  },
  {
   "cell_type": "code",
   "execution_count": 26,
   "id": "fb5b205c",
   "metadata": {},
   "outputs": [
    {
     "name": "stdout",
     "output_type": "stream",
     "text": [
      "Proc_one_Starttime -> 2022-06-26 10:47:37.415777\n",
      "Proc_one_Endtime -> 2022-06-26 10:47:39.422322\n"
     ]
    }
   ],
   "source": [
    "procOne()"
   ]
  },
  {
   "cell_type": "code",
   "execution_count": 27,
   "id": "bca1d8a9",
   "metadata": {},
   "outputs": [
    {
     "name": "stdout",
     "output_type": "stream",
     "text": [
      "Proc_two_Starttime -> 2022-06-26 10:47:45.065914\n",
      "Proc_two_Endtime -> 2022-06-26 10:47:46.073585\n"
     ]
    }
   ],
   "source": [
    "procTwo()"
   ]
  },
  {
   "cell_type": "code",
   "execution_count": 28,
   "id": "6996cba8",
   "metadata": {},
   "outputs": [
    {
     "name": "stdout",
     "output_type": "stream",
     "text": [
      "Proc_two_Starttime -> 2022-06-26 10:47:49.832886\n",
      "Proc_two_Endtime -> 2022-06-26 10:47:50.836513\n"
     ]
    }
   ],
   "source": [
    "procThree()"
   ]
  },
  {
   "cell_type": "markdown",
   "id": "38e0d310",
   "metadata": {},
   "source": [
    "### 7. Create a date object of your day of birth."
   ]
  },
  {
   "cell_type": "code",
   "execution_count": 29,
   "id": "ac80715f",
   "metadata": {},
   "outputs": [],
   "source": [
    "import datetime"
   ]
  },
  {
   "cell_type": "code",
   "execution_count": 32,
   "id": "499e0d9f",
   "metadata": {},
   "outputs": [
    {
     "name": "stdout",
     "output_type": "stream",
     "text": [
      "2001-10-25 00:00:00\n"
     ]
    }
   ],
   "source": [
    "my_birthday = datetime.datetime.strptime('25/10/2001','%d/%m/%Y')\n",
    "print(my_birthday)"
   ]
  },
  {
   "cell_type": "markdown",
   "id": "59cb564c",
   "metadata": {},
   "source": [
    "### 8. What day of the week was your day of birth?"
   ]
  },
  {
   "cell_type": "code",
   "execution_count": 37,
   "id": "ef2a5ea1",
   "metadata": {},
   "outputs": [
    {
     "data": {
      "text/plain": [
       "'Thursday'"
      ]
     },
     "execution_count": 37,
     "metadata": {},
     "output_type": "execute_result"
    }
   ],
   "source": [
    "my_birthday = datetime.datetime(2001,10,25)\n",
    "my_birthday.strftime('%A')"
   ]
  },
  {
   "cell_type": "markdown",
   "id": "60b303eb",
   "metadata": {},
   "source": [
    "### 9. When will you be (or when were you) 10,000 days old?"
   ]
  },
  {
   "cell_type": "code",
   "execution_count": 39,
   "id": "bb9257a6",
   "metadata": {},
   "outputs": [
    {
     "data": {
      "text/plain": [
       "datetime.datetime(1974, 6, 9, 0, 0)"
      ]
     },
     "execution_count": 39,
     "metadata": {},
     "output_type": "execute_result"
    }
   ],
   "source": [
    "from datetime import datetime, timedelta\n",
    "my_dob = datetime.strptime('25/10/2001','%d/%m/%Y')\n",
    "future_date = my_dob-timedelta(days=10000)\n",
    "future_date"
   ]
  },
  {
   "cell_type": "code",
   "execution_count": 40,
   "id": "c4833266",
   "metadata": {},
   "outputs": [
    {
     "data": {
      "text/plain": [
       "datetime.datetime(2001, 10, 25, 0, 0)"
      ]
     },
     "execution_count": 40,
     "metadata": {},
     "output_type": "execute_result"
    }
   ],
   "source": [
    "my_dob"
   ]
  },
  {
   "cell_type": "code",
   "execution_count": 41,
   "id": "af7dffca",
   "metadata": {},
   "outputs": [
    {
     "data": {
      "text/plain": [
       "datetime.timedelta(days=10000)"
      ]
     },
     "execution_count": 41,
     "metadata": {},
     "output_type": "execute_result"
    }
   ],
   "source": [
    "timedelta(days=10000)"
   ]
  },
  {
   "cell_type": "code",
   "execution_count": 42,
   "id": "d5a644d1",
   "metadata": {},
   "outputs": [
    {
     "data": {
      "text/plain": [
       "datetime.datetime(1974, 6, 9, 0, 0)"
      ]
     },
     "execution_count": 42,
     "metadata": {},
     "output_type": "execute_result"
    }
   ],
   "source": [
    "my_dob - timedelta(days=10000)"
   ]
  },
  {
   "cell_type": "code",
   "execution_count": null,
   "id": "90cf3054",
   "metadata": {},
   "outputs": [],
   "source": []
  }
 ],
 "metadata": {
  "kernelspec": {
   "display_name": "Python 3 (ipykernel)",
   "language": "python",
   "name": "python3"
  },
  "language_info": {
   "codemirror_mode": {
    "name": "ipython",
    "version": 3
   },
   "file_extension": ".py",
   "mimetype": "text/x-python",
   "name": "python",
   "nbconvert_exporter": "python",
   "pygments_lexer": "ipython3",
   "version": "3.9.12"
  }
 },
 "nbformat": 4,
 "nbformat_minor": 5
}
