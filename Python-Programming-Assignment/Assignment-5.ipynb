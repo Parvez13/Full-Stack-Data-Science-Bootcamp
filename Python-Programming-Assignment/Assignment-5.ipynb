{
 "cells": [
  {
   "cell_type": "markdown",
   "id": "b0bee463",
   "metadata": {},
   "source": [
    "## Assignment-5"
   ]
  },
  {
   "cell_type": "markdown",
   "id": "845999c3",
   "metadata": {},
   "source": [
    "### 1. Write a Python Program to Find LCM?"
   ]
  },
  {
   "cell_type": "code",
   "execution_count": 10,
   "id": "08f7b1ae",
   "metadata": {},
   "outputs": [
    {
     "name": "stdout",
     "output_type": "stream",
     "text": [
      "Please Input a number:  12\n",
      "Please Input a number: 14\n",
      "The LCM of 12,14 is 84\n"
     ]
    }
   ],
   "source": [
    "number1 = int(input(\"Please Input a number:  \"))\n",
    "number2 = int(input(\"Please Input a number: \"))\n",
    "\n",
    "def lcm_of_number(x,y):\n",
    "    \n",
    "    if x > y:\n",
    "        greatest = x\n",
    "    else:\n",
    "        greatest =y\n",
    "        \n",
    "    while True:\n",
    "        if ((greatest%x == 0)) and ((greatest%y == 0)):\n",
    "            lcm = greatest\n",
    "            break           \n",
    "        greatest += 1\n",
    "    print(f'The LCM of {x},{y} is {lcm}')\n",
    "\n",
    "lcm_of_number(number1,number2)"
   ]
  },
  {
   "cell_type": "markdown",
   "id": "b9967157",
   "metadata": {},
   "source": [
    "### 2. Write a Python Program to Find HCF?"
   ]
  },
  {
   "cell_type": "code",
   "execution_count": 12,
   "id": "44603122",
   "metadata": {},
   "outputs": [
    {
     "name": "stdout",
     "output_type": "stream",
     "text": [
      "Please Input a number:  12\n",
      "Please Input a number: 14\n",
      "The HCF of 12,14 is 2\n"
     ]
    }
   ],
   "source": [
    "number1 = int(input(\"Please Input a number:  \"))\n",
    "number2 = int(input(\"Please Input a number: \"))\n",
    "\n",
    "def calculate_hcf(x, y):  \n",
    "    if x > y:  \n",
    "        smaller = y  \n",
    "    else:  \n",
    "        smaller = x  \n",
    "    for i in range(1,smaller + 1):  \n",
    "        if((x % i == 0) and (y % i == 0)):  \n",
    "            hcf = i  \n",
    "    print(f'The HCF of {x},{y} is {hcf}') \n",
    "\n",
    "\n",
    "calculate_hcf(number1, number2)"
   ]
  },
  {
   "cell_type": "markdown",
   "id": "f77918ef",
   "metadata": {},
   "source": [
    "### 3. Write a Python Program to Convert Decimal to Binary, Octal and Hexadecimal?"
   ]
  },
  {
   "cell_type": "code",
   "execution_count": 18,
   "id": "042d4ef2",
   "metadata": {},
   "outputs": [],
   "source": [
    "def decimal():\n",
    "    num = int(input('Please input a number'))\n",
    "    print(f\"Binary : {bin(num)}\")\n",
    "    print(f\"Octa : {oct(num)}\")\n",
    "    print(f\"Hexa : {hex(num)}\")"
   ]
  },
  {
   "cell_type": "code",
   "execution_count": 20,
   "id": "30a7a8bf",
   "metadata": {},
   "outputs": [
    {
     "name": "stdout",
     "output_type": "stream",
     "text": [
      "Please input a number3525326463\n",
      "Binary : 0b11010010001000000011011001111111\n",
      "Octa : 0o32210033177\n",
      "Hexa : 0xd220367f\n"
     ]
    }
   ],
   "source": [
    "decimal()"
   ]
  },
  {
   "cell_type": "markdown",
   "id": "44fa6fba",
   "metadata": {},
   "source": [
    "### 4. Write a Python Program To Find ASCII value of a character?"
   ]
  },
  {
   "cell_type": "code",
   "execution_count": 22,
   "id": "14593a6f",
   "metadata": {},
   "outputs": [
    {
     "name": "stdout",
     "output_type": "stream",
     "text": [
      "Enter a Character: $\n",
      "Ascii Character of $ is 36\n"
     ]
    }
   ],
   "source": [
    "def charToAscii():\n",
    "    char = input('Enter a Character: ')\n",
    "    if len(char) > 1:\n",
    "        print('Please Enter a Single Character')\n",
    "    else:\n",
    "        print(f'Ascii Character of {char} is {ord(char)}')\n",
    "\n",
    "charToAscii()"
   ]
  },
  {
   "cell_type": "markdown",
   "id": "1faa7fc0",
   "metadata": {},
   "source": [
    "### 5. Write a Python Program to Make a Simple Calculator with 4 basic mathematical operations?"
   ]
  },
  {
   "cell_type": "code",
   "execution_count": 23,
   "id": "224b7c21",
   "metadata": {},
   "outputs": [
    {
     "name": "stdout",
     "output_type": "stream",
     "text": [
      "Select a Arithmetic Operation:         \n",
      "1.Addition(+)        \n",
      "2.Division(-)        \n",
      "2.Multiplication(*)        \n",
      "4.Division(/)        \n",
      "3.Stop(0)\n",
      "\n",
      "Enter a arithmetic operation -> +\n",
      "\n",
      "Enter 1st Number: 4\n",
      "Enter 2nd Number: 5\n",
      "4+5=9\n",
      "\n",
      "Enter a arithmetic operation -> -\n",
      "\n",
      "Enter 1st Number: 2\n",
      "Enter 2nd Number: 3\n",
      "2-3=-1\n",
      "\n",
      "Enter a arithmetic operation -> *\n",
      "\n",
      "Enter 1st Number: 10\n",
      "Enter 2nd Number: 100\n",
      "10*100=1000\n",
      "\n",
      "Enter a arithmetic operation -> 4\n",
      "Please enter a valid operator\n",
      "Enter a arithmetic operation -> /\n",
      "\n",
      "Enter 1st Number: 4\n",
      "Enter 2nd Number: 4\n",
      "4/4=1.0\n",
      "\n",
      "Enter a arithmetic operation -> 0\n",
      "Program Stopped successfully\n"
     ]
    }
   ],
   "source": [
    "import operator\n",
    "\n",
    "ops = { \"+\": operator.add, \"-\": operator.sub, \"*\":operator.mul, \"/\":operator.truediv } \n",
    "\n",
    "print('Select a Arithmetic Operation: \\\n",
    "        \\n1.Addition(+)\\\n",
    "        \\n2.Division(-)\\\n",
    "        \\n2.Multiplication(*)\\\n",
    "        \\n4.Division(/)\\\n",
    "        \\n3.Stop(0)\\n')\n",
    "   \n",
    "\n",
    "while True:\n",
    "    operator = input('Enter a arithmetic operation -> ')\n",
    "    if operator == '0':\n",
    "        print(\"Program Stopped successfully\")\n",
    "        break\n",
    "    elif operator not in ['+','-','*','/']:\n",
    "        print(\"Please enter a valid operator\")\n",
    "    else:\n",
    "        num_1 = int(input('\\nEnter 1st Number: '))\n",
    "        num_2 = int(input('Enter 2nd Number: '))\n",
    "        print(f'{num_1}{operator}{num_2}={ops[operator](num_1,num_2)}\\n')"
   ]
  },
  {
   "cell_type": "code",
   "execution_count": null,
   "id": "fc7dbba5",
   "metadata": {},
   "outputs": [],
   "source": []
  }
 ],
 "metadata": {
  "kernelspec": {
   "display_name": "Python 3 (ipykernel)",
   "language": "python",
   "name": "python3"
  },
  "language_info": {
   "codemirror_mode": {
    "name": "ipython",
    "version": 3
   },
   "file_extension": ".py",
   "mimetype": "text/x-python",
   "name": "python",
   "nbconvert_exporter": "python",
   "pygments_lexer": "ipython3",
   "version": "3.9.12"
  }
 },
 "nbformat": 4,
 "nbformat_minor": 5
}
